{
 "cells": [
  {
   "cell_type": "code",
   "execution_count": 24,
   "metadata": {},
   "outputs": [],
   "source": [
    "\"\"\"Python WPS execute\"\"\"\n",
    "\n",
    "from owslib.wps import WebProcessingService, monitorExecution\n",
    "from os import system\n"
   ]
  },
  {
   "cell_type": "code",
   "execution_count": 25,
   "metadata": {},
   "outputs": [
    {
     "name": "stdout",
     "output_type": "stream",
     "text": [
      "Service 'Flyingpigeon' is running\n"
     ]
    }
   ],
   "source": [
    "wps = WebProcessingService(url=\"http://localhost:8093/wps\", verbose=False)\n",
    "print(\"Service '{}' is running\".format(wps.identification.title))"
   ]
  },
  {
   "cell_type": "code",
   "execution_count": 26,
   "metadata": {},
   "outputs": [
    {
     "name": "stdout",
     "output_type": "stream",
     "text": [
      "subset : \t Return the data for which grid cells intersect the selected polygon for each input dataset as well asthe time range selected.\n",
      "subset_bbox : \t Return the data for which grid cells intersect the bounding box for each input dataset as well asthe time range selected.\n",
      "subset_continents : \t Return the data whose grid cells intersect the selected continents for each input dataset.\n",
      "subset_countries : \t Return the data whose grid cells intersect the selected countries for each input dataset.\n",
      "pointinspection : \t Extract the timeseries at the given coordinates.\n",
      "subset_WFS : \t Return the data for which grid cells intersect the selected polygon for each input dataset.\n",
      "plot_timeseries : \t Outputs some timeseries of the file field means. Spaghetti and uncertainty plot\n"
     ]
    }
   ],
   "source": [
    "for process in wps.processes:\n",
    "    print( '{} : \\t {}'.format(process.identifier, process.abstract))"
   ]
  },
  {
   "cell_type": "code",
   "execution_count": 27,
   "metadata": {},
   "outputs": [],
   "source": [
    "# define some data urls\n",
    "\n",
    "\n",
    "url1 = 'https://www.esrl.noaa.gov/psd/thredds/fileServer/Datasets/ncep.reanalysis.dailyavgs/surface/slp.2000.nc'\n",
    "url2 = 'https://www.esrl.noaa.gov/psd/thredds/fileServer/Datasets/ncep.reanalysis.dailyavgs/surface/slp.2001.nc'\n",
    "url3 = 'https://www.esrl.noaa.gov/psd/thredds/fileServer/Datasets/ncep.reanalysis.dailyavgs/surface/slp.2002.nc'\n",
    "url4 = 'https://www.esrl.noaa.gov/psd/thredds/fileServer/Datasets/ncep.reanalysis.dailyavgs/surface/slp.2003.nc' "
   ]
  },
  {
   "cell_type": "code",
   "execution_count": 28,
   "metadata": {},
   "outputs": [
    {
     "name": "stdout",
     "output_type": "stream",
     "text": [
      " owslib.wps.WPSException : {'code': 'NoApplicableCode', 'locator': 'None', 'text': 'Process failed, please check server error log'}\n",
      "ProcessFailed\n"
     ]
    }
   ],
   "source": [
    "execute = wps.execute(\n",
    "    identifier=\"plot_timeseries\", #indices_clipping\",\n",
    "    inputs=[\n",
    "       (\"resource\",url1),\n",
    "       (\"resource\",url2),\n",
    "       (\"resource\",url3),\n",
    "       (\"resource\",url4),\n",
    "       # (\"variable\" , \"slp\"), \n",
    "       ])\n",
    "\n",
    "monitorExecution(execute, sleepSecs=5)\n",
    "print(execute.getStatus())\n",
    "\n",
    "for o in execute.processOutputs:\n",
    "    print(o.reference)"
   ]
  },
  {
   "cell_type": "code",
   "execution_count": null,
   "metadata": {},
   "outputs": [],
   "source": [
    "from eggshell.nc.nc_utils import get_coordinates"
   ]
  }
 ],
 "metadata": {
  "kernelspec": {
   "display_name": "Python 3",
   "language": "python",
   "name": "python3"
  },
  "language_info": {
   "codemirror_mode": {
    "name": "ipython",
    "version": 3
   },
   "file_extension": ".py",
   "mimetype": "text/x-python",
   "name": "python",
   "nbconvert_exporter": "python",
   "pygments_lexer": "ipython3",
   "version": "3.7.4"
  }
 },
 "nbformat": 4,
 "nbformat_minor": 2
}
