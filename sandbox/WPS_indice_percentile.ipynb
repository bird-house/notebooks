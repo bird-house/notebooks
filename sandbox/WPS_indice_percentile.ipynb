{
 "cells": [
  {
   "cell_type": "code",
   "execution_count": 6,
   "metadata": {
    "collapsed": false
   },
   "outputs": [
    {
     "data": {
      "text/plain": [
       "['/home/nils/data/EUR-44/tas_EUR-44_ICHEC-EC-EARTH_historical_r12i1p1_SMHI-RCA4_v1_day_19710101-19751231.nc',\n",
       " '/home/nils/data/EUR-44/tas_EUR-44_ICHEC-EC-EARTH_historical_r12i1p1_SMHI-RCA4_v1_day_19760101-19801231.nc',\n",
       " '/home/nils/data/EUR-44/tas_EUR-44_ICHEC-EC-EARTH_historical_r12i1p1_SMHI-RCA4_v1_day_19810101-19851231.nc',\n",
       " '/home/nils/data/EUR-44/tas_EUR-44_ICHEC-EC-EARTH_historical_r12i1p1_SMHI-RCA4_v1_day_19860101-19901231.nc',\n",
       " '/home/nils/data/EUR-44/tas_EUR-44_ICHEC-EC-EARTH_historical_r12i1p1_SMHI-RCA4_v1_day_19910101-19951231.nc',\n",
       " '/home/nils/data/EUR-44/tas_EUR-44_ICHEC-EC-EARTH_historical_r12i1p1_SMHI-RCA4_v1_day_19960101-20001231.nc']"
      ]
     },
     "execution_count": 6,
     "metadata": {},
     "output_type": "execute_result"
    }
   ],
   "source": [
    "# define some input data locations\n",
    "\n",
    "from os.path import join\n",
    "path = '/home/nils/data/EUR-44'\n",
    "files = ['tas_EUR-44_ICHEC-EC-EARTH_historical_r12i1p1_SMHI-RCA4_v1_day_19710101-19751231.nc',\n",
    "            'tas_EUR-44_ICHEC-EC-EARTH_historical_r12i1p1_SMHI-RCA4_v1_day_19760101-19801231.nc',\n",
    "            'tas_EUR-44_ICHEC-EC-EARTH_historical_r12i1p1_SMHI-RCA4_v1_day_19810101-19851231.nc',\n",
    "            'tas_EUR-44_ICHEC-EC-EARTH_historical_r12i1p1_SMHI-RCA4_v1_day_19860101-19901231.nc',\n",
    "            'tas_EUR-44_ICHEC-EC-EARTH_historical_r12i1p1_SMHI-RCA4_v1_day_19910101-19951231.nc',\n",
    "            'tas_EUR-44_ICHEC-EC-EARTH_historical_r12i1p1_SMHI-RCA4_v1_day_19960101-20001231.nc',]\n",
    "resource = [ join(path,nc) for nc in files ]\n",
    "resource"
   ]
  },
  {
   "cell_type": "markdown",
   "metadata": {},
   "source": [
    "Execution with plain python (no birdhouse components included )"
   ]
  },
  {
   "cell_type": "code",
   "execution_count": 2,
   "metadata": {
    "collapsed": false
   },
   "outputs": [
    {
     "name": "stdout",
     "output_type": "stream",
     "text": [
      "/home/nils/birdhouse/flyingpigeon/notebooks/ocgis_output/ocgis_output.nc\n"
     ]
    }
   ],
   "source": [
    "import icclim \n",
    "\n",
    "from ocgis import RequestDataset, OcgOperations, env\n",
    "from ocgis.contrib.library_icclim import IcclimTG90p\n",
    "\n",
    "env.OVERWRITE = True\n",
    "########################################################################################################################\n",
    "# Compute a custom percentile basis using ICCLIM. ######################################################################\n",
    "########################################################################################################################\n",
    "\n",
    "# Subset the input dataset to return the desired base period for the percentile basis.\n",
    "variable = 'tas'\n",
    "years = range(1971, 2001)\n",
    "time_region = {'year': years}\n",
    "\n",
    "rd = RequestDataset(uri=resource, variable=variable)\n",
    "field = rd.get()\n",
    "field.get_time_region(time_region)\n",
    "\n",
    "# Calculate the percentile basis. The data values must be a three-dimensional array.\n",
    "arr = field.variables[variable].value.squeeze()\n",
    "dt_arr = field.temporal.value_datetime\n",
    "percentile = 90\n",
    "window_width = 5\n",
    "percentile_dict = IcclimTG90p.get_percentile_dict(arr, dt_arr, percentile, window_width)\n",
    "\n",
    "calc = [{'func': 'icclim_TG90p', 'name': 'TG90p', 'kwds': {'percentile_dict': percentile_dict}}]\n",
    "calc_grouping = 'year'\n",
    "ops = OcgOperations(dataset=rd, calc=calc, calc_grouping=calc_grouping, output_format='nc')\n",
    "coll = ops.execute()\n",
    "print coll"
   ]
  },
  {
   "cell_type": "markdown",
   "metadata": {},
   "source": [
    "Execute WPS icclim processes with PHYTHON "
   ]
  },
  {
   "cell_type": "code",
   "execution_count": 2,
   "metadata": {
    "collapsed": false
   },
   "outputs": [],
   "source": [
    "#############################\n",
    "# load the required libraries \n",
    "#############################\n",
    "\n",
    "from owslib.wps import WebProcessingService, monitorExecution, printInputOutput\n",
    "\n",
    "#################################################\n",
    "# connect to the compute provider hosting the WPS\n",
    "#################################################\n",
    "\n",
    "# wps_url = \"http://birdhouse-lsce.extra.cea.fr:8093/wps\"\n",
    "wps_url = \"http://localhost:8093/wps\"\n",
    "wps = WebProcessingService(url=wps_url, verbose=False)"
   ]
  },
  {
   "cell_type": "markdown",
   "metadata": {},
   "source": [
    "Explore some informations:"
   ]
  },
  {
   "cell_type": "code",
   "execution_count": 3,
   "metadata": {
    "collapsed": false
   },
   "outputs": [
    {
     "data": {
      "text/plain": [
       "'Flyingpigeon'"
      ]
     },
     "execution_count": 3,
     "metadata": {},
     "output_type": "execute_result"
    }
   ],
   "source": [
    "wps.identification.title"
   ]
  },
  {
   "cell_type": "code",
   "execution_count": 4,
   "metadata": {
    "collapsed": false
   },
   "outputs": [
    {
     "name": "stdout",
     "output_type": "stream",
     "text": [
      "subset_continents \t : Returns only the selected polygon for each input dataset \n",
      "subset_countries \t : Returns only the selected polygon for each input dataset \n",
      "subset_regionseurope \t : Returns only the selected polygon for each input dataset \n",
      "subset_points \t : Extract Timeseries for specified coordinates from gridded datasets \n",
      "indices_single \t : Climate indices based on one single input variable. \n",
      "indices_percentile \t : Climate indices based on one single input variable and the percentile of a referece period. \n",
      "weatherregimes_reanalyse \t : Weather Regimes based on pressure patterns, fetching selected Realayses Datasets \n",
      "weatherregimes_model \t : Weather Regimes based on pressure patterns, fetching selected Realayses Datasets \n",
      "weatherregimes_projection \t : Weather Regimes detection based on trained reference statistics \n",
      "analogs_detection \t : Search for days with analog pressure pattern \n",
      "analogs_viewer \t : Visualisation of text output of analogue process \n",
      "segetalflora \t : Species biodiversity of segetal flora. Imput files: variable:tas , domain: EUR-11 or EUR-44 \n",
      "sdm_gbifsearch \t : Species distribution model for tree species based on GBIF presens/absence data and climate indices \n",
      "sdm_csv \t : Species distribution model for tree species based on GBIF presens/absence data and climate indices \n",
      "plot_timeseries \t : Plots of the filesmeans over time. Spagetti and uncertainty plot \n",
      "fetch \t : This process downloads resources (limited to 50GB)             to the local file system of the birdhouse compute provider \n"
     ]
    }
   ],
   "source": [
    "for process in wps.processes:\n",
    "    print '%s \\t : %s '% (process.identifier, process.abstract) "
   ]
  },
  {
   "cell_type": "code",
   "execution_count": 5,
   "metadata": {
    "collapsed": false
   },
   "outputs": [
    {
     "name": "stdout",
     "output_type": "stream",
     "text": [
      " owslib.wps.WPSException : {'locator': 'None', 'code': 'NoApplicableCode', 'text': \"[Errno 2] No such file or directory: './pywpsInputJSenKs.base64'\"}\n"
     ]
    },
    {
     "ename": "IndexError",
     "evalue": "list index out of range",
     "output_type": "error",
     "traceback": [
      "\u001b[1;31m---------------------------------------------------------------------------\u001b[0m",
      "\u001b[1;31mIndexError\u001b[0m                                Traceback (most recent call last)",
      "\u001b[1;32m<ipython-input-5-eae3a3f769d1>\u001b[0m in \u001b[0;36m<module>\u001b[1;34m()\u001b[0m\n\u001b[0;32m     17\u001b[0m \u001b[1;33m\u001b[0m\u001b[0m\n\u001b[0;32m     18\u001b[0m \u001b[0mmonitorExecution\u001b[0m\u001b[1;33m(\u001b[0m\u001b[0mexecute\u001b[0m\u001b[1;33m,\u001b[0m \u001b[0msleepSecs\u001b[0m\u001b[1;33m=\u001b[0m\u001b[1;36m5\u001b[0m\u001b[1;33m)\u001b[0m\u001b[1;33m\u001b[0m\u001b[0m\n\u001b[1;32m---> 19\u001b[1;33m \u001b[0mo\u001b[0m \u001b[1;33m=\u001b[0m \u001b[0mexecute\u001b[0m\u001b[1;33m.\u001b[0m\u001b[0mprocessOutputs\u001b[0m\u001b[1;33m[\u001b[0m\u001b[1;36m0\u001b[0m\u001b[1;33m]\u001b[0m\u001b[1;33m\u001b[0m\u001b[0m\n\u001b[0m\u001b[0;32m     20\u001b[0m \u001b[1;32mprint\u001b[0m \u001b[0mo\u001b[0m\u001b[1;33m.\u001b[0m\u001b[0mreference\u001b[0m\u001b[1;33m\u001b[0m\u001b[0m\n",
      "\u001b[1;31mIndexError\u001b[0m: list index out of range"
     ]
    }
   ],
   "source": [
    "execute = wps.execute(\n",
    "    identifier=\"indices_percentile\",\n",
    "    inputs=[\n",
    "    ('indices','TG_p'),\n",
    "    ('groupings','yr'),\n",
    "    ('percentile', '95'),    \n",
    "    ('resource',resource[0]),\n",
    "    ('resource',resource[1]),\n",
    "    ('resource',resource[2]),\n",
    "    ('resource',resource[3]),\n",
    "    ('resource',resource[4]),\n",
    "    ('resource',resource[5]),\n",
    "    ('polygons', 'DEU')    \n",
    "    ], async=True\n",
    "    )\n"
   ]
  },
  {
   "cell_type": "code",
   "execution_count": 7,
   "metadata": {
    "collapsed": false
   },
   "outputs": [
    {
     "name": "stdout",
     "output_type": "stream",
     "text": [
      "ProcessFailed\n"
     ]
    }
   ],
   "source": [
    "# check process if completed ...\n",
    "\n",
    "monitorExecution(execute, sleepSecs=5)\n",
    "print execute.getStatus()\n",
    "\n",
    "for o in execute.processOutputs:\n",
    "    print o.reference"
   ]
  },
  {
   "cell_type": "code",
   "execution_count": null,
   "metadata": {
    "collapsed": true
   },
   "outputs": [],
   "source": []
  }
 ],
 "metadata": {
  "kernelspec": {
   "display_name": "Python 2",
   "language": "python",
   "name": "python2"
  },
  "language_info": {
   "codemirror_mode": {
    "name": "ipython",
    "version": 2
   },
   "file_extension": ".py",
   "mimetype": "text/x-python",
   "name": "python",
   "nbconvert_exporter": "python",
   "pygments_lexer": "ipython2",
   "version": "2.7.12"
  }
 },
 "nbformat": 4,
 "nbformat_minor": 0
}
