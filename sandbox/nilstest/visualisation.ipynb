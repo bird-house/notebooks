{
 "metadata": {
  "name": "",
  "signature": "sha256:e4fc3ebc1ecd6b3d4cd17c465818f9e153a9550282733d44b7582df9ff8f3af0"
 },
 "nbformat": 3,
 "nbformat_minor": 0,
 "worksheets": [
  {
   "cells": [
    {
     "cell_type": "heading",
     "level": 1,
     "metadata": {},
     "source": [
      "Calling Visualisation Process "
     ]
    },
    {
     "cell_type": "markdown",
     "metadata": {},
     "source": [
      "The following lines guiedes you through *visualisation process*. "
     ]
    },
    {
     "cell_type": "code",
     "collapsed": false,
     "input": [
      "url = 'http://localhost:8090/wps?'\n",
      "url += 'request=describeprocess'\n",
      "url += '&service=wps&version=1.0.0'\n",
      "url += '&identifier=de.csc.visualisation.worker'"
     ],
     "language": "python",
     "metadata": {},
     "outputs": [],
     "prompt_number": 1
    },
    {
     "cell_type": "code",
     "collapsed": false,
     "input": [
      "print url"
     ],
     "language": "python",
     "metadata": {},
     "outputs": [
      {
       "output_type": "stream",
       "stream": "stdout",
       "text": [
        "http://localhost:8090/wps?request=describeprocess&service=wps&version=1.0.0&identifier=de.csc.visualisation.worker\n"
       ]
      }
     ],
     "prompt_number": 2
    },
    {
     "cell_type": "markdown",
     "metadata": {},
     "source": [
      "Now starts the process:"
     ]
    },
    {
     "cell_type": "code",
     "collapsed": false,
     "input": [
      "url = 'http://localhost:8090/wps?'\n",
      "url += 'request=execute'\n",
      "url += '&service=wps&version=1.0.0'\n",
      "url += '&identifier=de.csc.visualisation.worker'\n",
      "url += '&datainputs=variable=tas'\n",
      "url += ';file_identifier=http://localhost:8090/thredds/fileServer/test/tas_AFR-44_MPI-M-MPI-ESM-LR_historical_r1i1p1_SMHI-RCA4_v1_day_20010101-20051231.nc'\n",
      "url += '&storeExecuteResponse=true&status=true'\n",
      "\n",
      "\n"
     ],
     "language": "python",
     "metadata": {},
     "outputs": [],
     "prompt_number": 3
    },
    {
     "cell_type": "code",
     "collapsed": false,
     "input": [
      "print url "
     ],
     "language": "python",
     "metadata": {},
     "outputs": [
      {
       "output_type": "stream",
       "stream": "stdout",
       "text": [
        "http://localhost:8090/wps?request=execute&service=wps&version=1.0.0&identifier=de.csc.visualisation.worker&datainputs=variable=tas;file_identifier=http://localhost:8090/thredds/fileServer/test/tas_AFR-44_MPI-M-MPI-ESM-LR_historical_r1i1p1_SMHI-RCA4_v1_day_20010101-20051231.nc&storeExecuteResponse=true&status=true\n"
       ]
      }
     ],
     "prompt_number": 4
    },
    {
     "cell_type": "code",
     "collapsed": false,
     "input": [],
     "language": "python",
     "metadata": {},
     "outputs": []
    }
   ],
   "metadata": {}
  }
 ]
}