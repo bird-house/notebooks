{
 "metadata": {
  "name": "",
  "signature": "sha256:3bc502b4181d68a5f267d8e631499ed7f27dc0a44864e1fc07ddbc8a627de219"
 },
 "nbformat": 3,
 "nbformat_minor": 0,
 "worksheets": [
  {
   "cells": [
    {
     "cell_type": "code",
     "collapsed": false,
     "input": [
      "from owslib.wps import WebProcessingService, monitorExecution \n",
      "wps = WebProcessingService(url=\"https://localhost/wps\", verbose=False, skip_caps=False)\n"
     ],
     "language": "python",
     "metadata": {},
     "outputs": [],
     "prompt_number": 6
    },
    {
     "cell_type": "code",
     "collapsed": false,
     "input": [
      "# execute wordcount process with chomsky as input\n",
      "execute = wps.execute(\n",
      "    identifier=\"de.csc.visualisation.worker\",\n",
      "    inputs=[\n",
      "    (\"variable\", \"tas\"),\n",
      "    (\"file_identifier\", \"https://localhost/thredds/fileServer/test/nils.hempelmann@hzg.de/tas_EUR-44_CNRM-CERFACS-CNRM-CM5_historical_r1i1p1_SMHI-RCA4_v1_day_20010101-20051231.nc\"),\n",
      "    (\"file_identifier\", \"https://localhost/thredds/fileServer/test/nils.hempelmann@hzg.de/tas_EUR-44_ICHEC-EC-EARTH_historical_r12i1p1_SMHI-RCA4_v1_day_20010101-20051231.nc\"),\n",
      "    (\"file_identifier\", \"https://localhost/thredds/fileServer/test/nils.hempelmann@hzg.de/tas_EUR-44_ICHEC-EC-EARTH_historical_r1i1p1_KNMI-RACMO22E_v1_day_20010101-20051231.nc\")],\n",
      "    output=[(\"output\", True)])\n",
      "\n",
      "# check process if completed ...\n",
      "monitorExecution(execute, sleepSecs=10)\n",
      "\n",
      "\n"
     ],
     "language": "python",
     "metadata": {},
     "outputs": [
      {
       "output_type": "stream",
       "stream": "stdout",
       "text": [
        "Executing WPS request...\n",
        "Execution status=ProcessAccepted"
       ]
      },
      {
       "output_type": "stream",
       "stream": "stdout",
       "text": [
        "\n",
        "Percent completed=0\n",
        "Status message=Process de.csc.visualisation.worker accepted\n",
        "\n",
        "Checking execution status... (location=http://localhost:8091/wpsoutputs/pywps-11376822-dc66-11e3-b2e2-d4bed959f031.xml)\n",
        "Execution status=ProcessAccepted\n",
        "Percent completed=0\n",
        "Status message=Process de.csc.visualisation.worker accepted\n",
        "Sleeping 10 seconds...\n",
        "Execution status: ProcessAccepted"
       ]
      },
      {
       "output_type": "stream",
       "stream": "stdout",
       "text": [
        "\n",
        "\n",
        "Checking execution status... (location=http://localhost:8091/wpsoutputs/pywps-11376822-dc66-11e3-b2e2-d4bed959f031.xml)\n",
        "Execution status=ProcessSucceeded\n",
        "Percent completed=0\n",
        "Status message=PyWPS Process de.csc.visualisation.worker successfully calculated\n",
        "Execution status: ProcessSucceeded\n",
        "Output URL=http://localhost:8091/wpsoutputs/output-11376822-dc66-11e3-b2e2-d4bed959f031.html\n"
       ]
      }
     ],
     "prompt_number": 11
    },
    {
     "cell_type": "code",
     "collapsed": false,
     "input": [
      "o = execute.processOutputs[0]\n",
      "print o.reference"
     ],
     "language": "python",
     "metadata": {},
     "outputs": [
      {
       "output_type": "stream",
       "stream": "stdout",
       "text": [
        "http://localhost:8091/wpsoutputs/output-11376822-dc66-11e3-b2e2-d4bed959f031.html\n"
       ]
      }
     ],
     "prompt_number": 12
    },
    {
     "cell_type": "code",
     "collapsed": false,
     "input": [],
     "language": "python",
     "metadata": {},
     "outputs": []
    }
   ],
   "metadata": {}
  }
 ]
}