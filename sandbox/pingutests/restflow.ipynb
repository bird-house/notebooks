{
 "metadata": {
  "name": "",
  "signature": "sha256:1f90ccb7464de18dcc2dcf119b5589fd347e3380be50f1eda204b71a89aded5e"
 },
 "nbformat": 3,
 "nbformat_minor": 0,
 "worksheets": [
  {
   "cells": [
    {
     "cell_type": "code",
     "collapsed": false,
     "input": [
      "from owslib.wps import WebProcessingService,monitorExecution,WPSExecution\n",
      "wps = WebProcessingService(\"http://localhost:8091/wps\")\n",
      "        \n",
      "nodes={\"source\": \n",
      "       {\"sources\": \n",
      "        [[\"http://carbon.dkrz.de/thredds/fileServer/cordex/output/EUR-11/MPI-CSC/MPI-M-MPI-ESM-LR/historical/r1i1p1/MPI-CSC-REMO2009/v1/day/tas/v20140414/tas_EUR-11_MPI-M-MPI-ESM-LR_historical_r1i1p1_MPI-CSC-REMO2009_v1_day_19500102-19501231.nc\"]], \n",
      "        \"service\": \"http://localhost:8091/wps\", \n",
      "        \"input\": [\"credentials=http://localhost:8090/wpsoutputs/malleefowl/output-3930c138-262a-11e4-aa9c-685b35a278a2.pem\"], \n",
      "        \"complex_input\": \"source\", \n",
      "        \"output\": [\"output\"], \n",
      "        \"identifier\": \"esgf_wget\"}, \n",
      "       \"worker\": \n",
      "       {\"complex_input\": \"netcdf_file\", \n",
      "        \"output\": [\"output\"], \n",
      "        \"identifier\": \"ncmeta\", \n",
      "        \"service\": \"http://localhost:8092/wps\", \n",
      "        \"input\": []}}\n",
      "import json\n",
      "nodes_json=json.dumps(nodes)\n",
      "#print nodes_json\n",
      "\n",
      "execution = wps.execute('restflow_generate', inputs=[('nodes', nodes_json)], output=[('output', True)])\n",
      "monitorExecution(execution)\n",
      "wf_url = execution.processOutputs[0].reference\n",
      "print wf_url\n",
      "\n",
      "\n",
      "execution = wps.execute('restflow_run', \n",
      "                        inputs=[('workflow_description', wf_url)], \n",
      "                        output=[('output', True)])\n",
      "\n",
      "monitorExecution(execution)\n"
     ],
     "language": "python",
     "metadata": {},
     "outputs": [
      {
       "output_type": "stream",
       "stream": "stdout",
       "text": [
        "Executing WPS request...\n",
        "Execution status=ProcessAccepted"
       ]
      },
      {
       "output_type": "stream",
       "stream": "stdout",
       "text": [
        "\n",
        "Percent completed=0\n",
        "Status message=Process restflow_generate accepted\n",
        "\n",
        "Checking execution status... (location=http://localhost:8090/wpsoutputs/malleefowl/pywps-c7da1ff5-263b-11e4-ad56-685b35a278a2.xml)\n",
        "Execution status=ProcessAccepted\n",
        "Percent completed=0\n",
        "Status message=Process restflow_generate accepted\n",
        "Sleeping 3 seconds...\n",
        "Execution status: ProcessAccepted"
       ]
      },
      {
       "output_type": "stream",
       "stream": "stdout",
       "text": [
        "\n",
        "\n",
        "Checking execution status... (location=http://localhost:8090/wpsoutputs/malleefowl/pywps-c7da1ff5-263b-11e4-ad56-685b35a278a2.xml)\n",
        "Execution status=ProcessSucceeded\n",
        "Percent completed=0\n",
        "Status message=PyWPS Process restflow_generate successfully calculated\n",
        "Execution status: ProcessSucceeded\n",
        "Output URL=http://localhost:8090/wpsoutputs/malleefowl/output-c7da1ff5-263b-11e4-ad56-685b35a278a2.txt\n",
        "http://localhost:8090/wpsoutputs/malleefowl/output-c7da1ff5-263b-11e4-ad56-685b35a278a2.txt\n",
        "Executing WPS request...\n",
        "Execution status=ProcessAccepted\n",
        "Percent completed=0\n",
        "Status message=Process restflow_run accepted\n",
        "\n",
        "Checking execution status... (location=http://localhost:8090/wpsoutputs/malleefowl/pywps-c9b59b97-263b-11e4-be5e-685b35a278a2.xml)\n",
        "Execution status=ProcessAccepted\n",
        "Percent completed=0\n",
        "Status message=Process restflow_run accepted\n",
        "Sleeping 3 seconds...\n",
        "Execution status: ProcessAccepted"
       ]
      },
      {
       "output_type": "stream",
       "stream": "stdout",
       "text": [
        "\n",
        "\n",
        "Checking execution status... (location=http://localhost:8090/wpsoutputs/malleefowl/pywps-c9b59b97-263b-11e4-be5e-685b35a278a2.xml)\n",
        "Execution status=ProcessStarted\n",
        "Percent completed=5\n",
        "Status message=processstarted workflow is started\n",
        "Sleeping 3 seconds...\n",
        "Execution status: ProcessStarted"
       ]
      },
      {
       "output_type": "stream",
       "stream": "stdout",
       "text": [
        "\n",
        "\n",
        "Checking execution status... (location=http://localhost:8090/wpsoutputs/malleefowl/pywps-c9b59b97-263b-11e4-be5e-685b35a278a2.xml)\n",
        "Execution status=ProcessStarted\n",
        "Percent completed=5\n",
        "Status message=processstarted workflow is started\n",
        "Sleeping 3 seconds...\n",
        "Execution status: ProcessStarted"
       ]
      },
      {
       "output_type": "stream",
       "stream": "stdout",
       "text": [
        "\n",
        "\n",
        "Checking execution status... (location=http://localhost:8090/wpsoutputs/malleefowl/pywps-c9b59b97-263b-11e4-be5e-685b35a278a2.xml)\n",
        "Execution status=ProcessStarted\n",
        "Percent completed=5\n",
        "Status message=processstarted workflow is started\n",
        "Sleeping 3 seconds...\n",
        "Execution status: ProcessStarted"
       ]
      },
      {
       "output_type": "stream",
       "stream": "stdout",
       "text": [
        "\n",
        "\n",
        "Checking execution status... (location=http://localhost:8090/wpsoutputs/malleefowl/pywps-c9b59b97-263b-11e4-be5e-685b35a278a2.xml)\n",
        "Execution status=ProcessStarted\n",
        "Percent completed=5\n",
        "Status message=processstarted workflow is started\n",
        "Sleeping 3 seconds...\n",
        "Execution status: ProcessStarted"
       ]
      },
      {
       "output_type": "stream",
       "stream": "stdout",
       "text": [
        "\n",
        "\n",
        "Checking execution status... (location=http://localhost:8090/wpsoutputs/malleefowl/pywps-c9b59b97-263b-11e4-be5e-685b35a278a2.xml)\n",
        "Execution status=ProcessSucceeded\n",
        "Percent completed=5\n",
        "Status message=PyWPS Process restflow_run successfully calculated\n",
        "Execution status: ProcessSucceeded\n",
        "Output URL=http://localhost:8090/wpsoutputs/malleefowl/output-c9b59b97-263b-11e4-be5e-685b35a278a2.json\n"
       ]
      }
     ],
     "prompt_number": 33
    },
    {
     "cell_type": "code",
     "collapsed": false,
     "input": [],
     "language": "python",
     "metadata": {},
     "outputs": [],
     "prompt_number": 32
    },
    {
     "cell_type": "code",
     "collapsed": false,
     "input": [],
     "language": "python",
     "metadata": {},
     "outputs": [],
     "prompt_number": 32
    },
    {
     "cell_type": "code",
     "collapsed": false,
     "input": [],
     "language": "python",
     "metadata": {},
     "outputs": []
    }
   ],
   "metadata": {}
  }
 ]
}