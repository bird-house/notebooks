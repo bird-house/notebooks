{
 "metadata": {
  "name": "",
  "signature": "sha256:76e585b797e805f22d32986e9bc85eb9577238ebcc83dba4ea5d283a808b4da2"
 },
 "nbformat": 3,
 "nbformat_minor": 0,
 "worksheets": [
  {
   "cells": [
    {
     "cell_type": "code",
     "collapsed": false,
     "input": [
      "req_url = \"{wps_url}?\" +\\\n",
      "    \"request=Execute\" +\\\n",
      "    \"&service=WPS\" +\\\n",
      "    \"&version=1.0.0\" +\\\n",
      "    \"&identifier={identifier}\" +\\\n",
      "    \"&DataInputs={inputs}\"\n",
      "    "
     ],
     "language": "python",
     "metadata": {},
     "outputs": [],
     "prompt_number": 1
    },
    {
     "cell_type": "code",
     "collapsed": false,
     "input": [
      "import urllib\n",
      "local_url=\"file:///Users/pingu/anaconda/var/lib/pywps/outputs/malleefowl/cache/output-d3f5f791-27da-11e4-a3be-685b35a278a2.nc\"\n",
      "remote_url=\"http://localhost:8090/wpsoutputs/malleefowl/output-38d4db73-27db-11e4-a66c-685b35a278a2.nc\"\n",
      "\n",
      "url=req_url.format(\n",
      "    wps_url=\"http://localhost:8092/wps\",\n",
      "    identifier=\"cdo_sinfo\", \n",
      "    inputs=\"netcdf_file=\"+urllib.quote(local_url))\n",
      "print url\n"
     ],
     "language": "python",
     "metadata": {},
     "outputs": [
      {
       "output_type": "stream",
       "stream": "stdout",
       "text": [
        "http://localhost:8092/wps?request=Execute&service=WPS&version=1.0.0&identifier=cdo_sinfo&DataInputs=netcdf_file=file%3A///Users/pingu/anaconda/var/lib/pywps/outputs/malleefowl/cache/output-d3f5f791-27da-11e4-a3be-685b35a278a2.nc\n"
       ]
      }
     ],
     "prompt_number": 10
    },
    {
     "cell_type": "code",
     "collapsed": false,
     "input": [
      "urllib.splittype(local_url)\n"
     ],
     "language": "python",
     "metadata": {},
     "outputs": [
      {
       "metadata": {},
       "output_type": "pyout",
       "prompt_number": 9,
       "text": [
        "('file',\n",
        " '///Users/pingu/anaconda/var/lib/pywps/outputs/malleefowl/cache/output-d3f5f791-27da-11e4-a3be-685b35a278a2.nc')"
       ]
      }
     ],
     "prompt_number": 9
    },
    {
     "cell_type": "code",
     "collapsed": false,
     "input": [
      "from urlparse import urlparse, urlunparse\n",
      "urlparse(local_url).scheme"
     ],
     "language": "python",
     "metadata": {},
     "outputs": [
      {
       "metadata": {},
       "output_type": "pyout",
       "prompt_number": 23,
       "text": [
        "'file'"
       ]
      }
     ],
     "prompt_number": 23
    },
    {
     "cell_type": "code",
     "collapsed": false,
     "input": [
      "\n"
     ],
     "language": "python",
     "metadata": {},
     "outputs": [
      {
       "output_type": "stream",
       "stream": "stdout",
       "text": [
        "output\n"
       ]
      }
     ],
     "prompt_number": 22
    },
    {
     "cell_type": "code",
     "collapsed": false,
     "input": [],
     "language": "python",
     "metadata": {},
     "outputs": []
    },
    {
     "cell_type": "code",
     "collapsed": false,
     "input": [],
     "language": "python",
     "metadata": {},
     "outputs": []
    }
   ],
   "metadata": {}
  }
 ]
}