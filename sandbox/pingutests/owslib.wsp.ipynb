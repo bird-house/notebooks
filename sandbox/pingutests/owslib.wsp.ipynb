{
 "cells": [
  {
   "cell_type": "code",
   "execution_count": 7,
   "metadata": {
    "collapsed": true
   },
   "outputs": [],
   "source": [
    "from owslib.wps import WebProcessingService, monitorExecution, printInputOutput\n"
   ]
  },
  {
   "cell_type": "code",
   "execution_count": 2,
   "metadata": {
    "collapsed": true
   },
   "outputs": [],
   "source": [
    "wps = WebProcessingService(url=\"http://localhost:8094/wps\", verbose=False)"
   ]
  },
  {
   "cell_type": "code",
   "execution_count": 3,
   "metadata": {
    "collapsed": false
   },
   "outputs": [
    {
     "name": "stdout",
     "output_type": "stream",
     "text": [
      "Emu\n"
     ]
    }
   ],
   "source": [
    "print wps.identification.title"
   ]
  },
  {
   "cell_type": "code",
   "execution_count": 4,
   "metadata": {
    "collapsed": false
   },
   "outputs": [
    {
     "name": "stdout",
     "output_type": "stream",
     "text": [
      "helloworld : \t Welcome user and say hello ...\n",
      "ultimatequestionprocess : \t Numerical solution that is the answer to Life, Universe and Everything. The process is an improvement to Deep Tought computer (therefore version 2.0) since it no longer takes 7.5 milion years, but only a few seconds to give a response, with an update of status every 10 seconds.\n",
      "dummyprocess : \t The Dummy process is used for testing the WPS structure. The process will accept 2 input numbers and will return the XML result with an add one and subtract one operation\n",
      "wordcount : \t Counts words in a given text ...\n",
      "inout : \t Just testing data types like date, datetime etc ...\n",
      "multiplesources : \t Process with multiple different sources ...\n",
      "chomsky : \t Generates a random chomsky text ...\n",
      "zonal_mean : \t zonal mean in NetCDF File.\n"
     ]
    }
   ],
   "source": [
    "for process in wps.processes:\n",
    "    print '%s : \\t %s' % (process.identifier, process.abstract, )"
   ]
  },
  {
   "cell_type": "code",
   "execution_count": 6,
   "metadata": {
    "collapsed": false
   },
   "outputs": [],
   "source": [
    "# get infos about process inout\n",
    "p = wps.describeprocess(identifier='inout')"
   ]
  },
  {
   "cell_type": "code",
   "execution_count": 8,
   "metadata": {
    "collapsed": false
   },
   "outputs": [
    {
     "name": "stdout",
     "output_type": "stream",
     "text": [
      " identifier=int, title=Integer, abstract=This is an Integer, data type=//www.w3.org/TR/xmlschema-2/#integer\n",
      " Any value allowed\n",
      " Default Value: 10 \n",
      " minOccurs=0, maxOccurs=1\n",
      " identifier=string, title=String, abstract=This is a String, data type=//www.w3.org/TR/xmlschema-2/#string\n",
      " Any value allowed\n",
      " Default Value: nothing important \n",
      " minOccurs=0, maxOccurs=1\n",
      " identifier=float, title=Float, abstract=This is a Float, data type=//www.w3.org/TR/xmlschema-2/#float\n",
      " Any value allowed\n",
      " Default Value: 3.14 \n",
      " minOccurs=0, maxOccurs=1\n",
      " identifier=boolean, title=Boolean, abstract=This is a Boolean, data type=//www.w3.org/TR/xmlschema-2/#boolean\n",
      " Any value allowed\n",
      " Default Value: False \n",
      " minOccurs=0, maxOccurs=1\n",
      " identifier=date, title=Date, abstract=This is a Date: 2013-07-10, data type=//www.w3.org/TR/xmlschema-2/#string\n",
      " Any value allowed\n",
      " Default Value: 2013-07-11 \n",
      " minOccurs=0, maxOccurs=1\n",
      " identifier=stringChoice, title=String Choice, abstract=Choose a string, data type=//www.w3.org/TR/xmlschema-2/#string\n",
      " Allowed Value: one\n",
      " Allowed Value: two\n",
      " Allowed Value: three\n",
      " Default Value: one \n",
      " minOccurs=0, maxOccurs=3\n",
      " identifier=intRequired, title=Integer Required, abstract=This is an required Integer, data type=//www.w3.org/TR/xmlschema-2/#integer\n",
      " Any value allowed\n",
      " Default Value: None \n",
      " minOccurs=1, maxOccurs=1\n",
      " identifier=stringMoreThenOne, title=More then One, abstract=This is a more then one String (0-2), data type=//www.w3.org/TR/xmlschema-2/#string\n",
      " Any value allowed\n",
      " Default Value: None \n",
      " minOccurs=0, maxOccurs=2\n",
      " identifier=xml_url, title=XML File, abstract=URL of XML File, data type=ComplexData\n",
      " Supported Value: mimeType=text/xml, encoding=None, schema=None\n",
      " Default Value: mimeType=text/xml, encoding=None, schema=None \n",
      " minOccurs=0, maxOccurs=2\n",
      " identifier=dummybbox, title=Dummy BBox, abstract=This is a BBox: (minx,miny,maxx,maxy), data type=//www.w3.org/TR/xmlschema-2/#string\n",
      " Any value allowed\n",
      " Default Value: 0,-90,180,90 \n",
      " minOccurs=0, maxOccurs=1\n"
     ]
    }
   ],
   "source": [
    "for input in p.dataInputs:\n",
    "    printInputOutput(input)"
   ]
  },
  {
   "cell_type": "code",
   "execution_count": 16,
   "metadata": {
    "collapsed": false
   },
   "outputs": [
    {
     "name": "stdout",
     "output_type": "stream",
     "text": [
      "**************\n",
      "identifier: int\n",
      "title: Integer\n",
      "abstract: This is an Integer\n",
      "dataType: //www.w3.org/TR/xmlschema-2/#integer\n",
      "defaultValue: 10\n",
      "allowedValues: []\n",
      "supportedValues: []\n",
      "minOccurs: 0\n",
      "maxOccurs: 1\n",
      "**************\n",
      "identifier: string\n",
      "title: String\n",
      "abstract: This is a String\n",
      "dataType: //www.w3.org/TR/xmlschema-2/#string\n",
      "defaultValue: nothing important\n",
      "allowedValues: []\n",
      "supportedValues: []\n",
      "minOccurs: 0\n",
      "maxOccurs: 1\n",
      "**************\n",
      "identifier: float\n",
      "title: Float\n",
      "abstract: This is a Float\n",
      "dataType: //www.w3.org/TR/xmlschema-2/#float\n",
      "defaultValue: 3.14\n",
      "allowedValues: []\n",
      "supportedValues: []\n",
      "minOccurs: 0\n",
      "maxOccurs: 1\n",
      "**************\n",
      "identifier: boolean\n",
      "title: Boolean\n",
      "abstract: This is a Boolean\n",
      "dataType: //www.w3.org/TR/xmlschema-2/#boolean\n",
      "defaultValue: False\n",
      "allowedValues: []\n",
      "supportedValues: []\n",
      "minOccurs: 0\n",
      "maxOccurs: 1\n",
      "**************\n",
      "identifier: date\n",
      "title: Date\n",
      "abstract: This is a Date: 2013-07-10\n",
      "dataType: //www.w3.org/TR/xmlschema-2/#string\n",
      "defaultValue: 2013-07-11\n",
      "allowedValues: []\n",
      "supportedValues: []\n",
      "minOccurs: 0\n",
      "maxOccurs: 1\n",
      "**************\n",
      "identifier: stringChoice\n",
      "title: String Choice\n",
      "abstract: Choose a string\n",
      "dataType: //www.w3.org/TR/xmlschema-2/#string\n",
      "defaultValue: one\n",
      "allowedValues: ['one', 'two', 'three']\n",
      "supportedValues: []\n",
      "minOccurs: 0\n",
      "maxOccurs: 3\n",
      "**************\n",
      "identifier: intRequired\n",
      "title: Integer Required\n",
      "abstract: This is an required Integer\n",
      "dataType: //www.w3.org/TR/xmlschema-2/#integer\n",
      "defaultValue: None\n",
      "allowedValues: []\n",
      "supportedValues: []\n",
      "minOccurs: 1\n",
      "maxOccurs: 1\n",
      "**************\n",
      "identifier: stringMoreThenOne\n",
      "title: More then One\n",
      "abstract: This is a more then one String (0-2)\n",
      "dataType: //www.w3.org/TR/xmlschema-2/#string\n",
      "defaultValue: None\n",
      "allowedValues: []\n",
      "supportedValues: []\n",
      "minOccurs: 0\n",
      "maxOccurs: 2\n",
      "**************\n",
      "identifier: xml_url\n",
      "title: XML File\n",
      "abstract: URL of XML File\n",
      "dataType: ComplexData\n",
      "defaultValue: <owslib.wps.ComplexData object at 0x7f3600b8cbd0>\n",
      "allowedValues: []\n",
      "supportedValues: [<owslib.wps.ComplexData object at 0x7f3600b8cc10>]\n",
      "minOccurs: 0\n",
      "maxOccurs: 2\n",
      "**************\n",
      "identifier: dummybbox\n",
      "title: Dummy BBox\n",
      "abstract: This is a BBox: (minx,miny,maxx,maxy)\n",
      "dataType: //www.w3.org/TR/xmlschema-2/#string\n",
      "defaultValue: 0,-90,180,90\n",
      "allowedValues: []\n",
      "supportedValues: []\n",
      "minOccurs: 0\n",
      "maxOccurs: 1\n"
     ]
    }
   ],
   "source": [
    "for input in p.dataInputs:\n",
    "    print '**************'\n",
    "    print 'identifier:', input.identifier\n",
    "    print 'title:', input.title\n",
    "    print 'abstract:', input.abstract\n",
    "    print 'dataType:', input.dataType\n",
    "    print 'defaultValue:', input.defaultValue\n",
    "    print 'allowedValues:', input.allowedValues\n",
    "    print 'supportedValues:', input.supportedValues\n",
    "    print 'minOccurs:', input.minOccurs\n",
    "    print 'maxOccurs:', input.maxOccurs"
   ]
  },
  {
   "cell_type": "code",
   "execution_count": null,
   "metadata": {
    "collapsed": true
   },
   "outputs": [],
   "source": []
  }
 ],
 "metadata": {
  "kernelspec": {
   "display_name": "Python 2",
   "language": "python",
   "name": "python2"
  },
  "language_info": {
   "codemirror_mode": {
    "name": "ipython",
    "version": 2
   },
   "file_extension": ".py",
   "mimetype": "text/x-python",
   "name": "python",
   "nbconvert_exporter": "python",
   "pygments_lexer": "ipython2",
   "version": "2.7.10"
  }
 },
 "nbformat": 4,
 "nbformat_minor": 0
}
