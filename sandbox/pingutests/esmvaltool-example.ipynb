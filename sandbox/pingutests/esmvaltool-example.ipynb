{
 "cells": [
  {
   "cell_type": "code",
   "execution_count": 11,
   "metadata": {
    "collapsed": true
   },
   "outputs": [],
   "source": [
    "import requests"
   ]
  },
  {
   "cell_type": "code",
   "execution_count": 12,
   "metadata": {
    "collapsed": true
   },
   "outputs": [],
   "source": [
    "base_url = \"https://bovec.dkrz.de/ows/proxy/esmvaltool\""
   ]
  },
  {
   "cell_type": "markdown",
   "metadata": {},
   "source": [
    "## GetCapabilities Request"
   ]
  },
  {
   "cell_type": "code",
   "execution_count": 13,
   "metadata": {
    "collapsed": false
   },
   "outputs": [
    {
     "name": "stderr",
     "output_type": "stream",
     "text": [
      "/home/pingu/.conda/envs/notebook/lib/python2.7/site-packages/requests/packages/urllib3/connectionpool.py:843: InsecureRequestWarning: Unverified HTTPS request is being made. Adding certificate verification is strongly advised. See: https://urllib3.readthedocs.io/en/latest/advanced-usage.html#ssl-warnings\n",
      "  InsecureRequestWarning)\n"
     ]
    }
   ],
   "source": [
    "response = requests.get(base_url + \n",
    "                        \"?Service=WPS&Request=GetCapabilities\", \n",
    "                        verify=False)"
   ]
  },
  {
   "cell_type": "code",
   "execution_count": 14,
   "metadata": {
    "collapsed": false
   },
   "outputs": [
    {
     "name": "stdout",
     "output_type": "stream",
     "text": [
      "https://bovec.dkrz.de/ows/proxy/esmvaltool?Service=WPS&Request=GetCapabilities\n"
     ]
    }
   ],
   "source": [
    "print response.url"
   ]
  },
  {
   "cell_type": "markdown",
   "metadata": {},
   "source": [
    "## DescribeProcess Request"
   ]
  },
  {
   "cell_type": "code",
   "execution_count": 15,
   "metadata": {
    "collapsed": false
   },
   "outputs": [
    {
     "name": "stderr",
     "output_type": "stream",
     "text": [
      "/home/pingu/.conda/envs/notebook/lib/python2.7/site-packages/requests/packages/urllib3/connectionpool.py:843: InsecureRequestWarning: Unverified HTTPS request is being made. Adding certificate verification is strongly advised. See: https://urllib3.readthedocs.io/en/latest/advanced-usage.html#ssl-warnings\n",
      "  InsecureRequestWarning)\n"
     ]
    }
   ],
   "source": [
    "response = requests.get(base_url + \n",
    "                        \"?Service=WPS&Request=DescribeProcess&Version=1.0.0&Identifier=overview\", \n",
    "                        verify=False)"
   ]
  },
  {
   "cell_type": "code",
   "execution_count": 16,
   "metadata": {
    "collapsed": false
   },
   "outputs": [
    {
     "name": "stdout",
     "output_type": "stream",
     "text": [
      "https://bovec.dkrz.de/ows/proxy/esmvaltool?Service=WPS&Request=DescribeProcess&Version=1.0.0&Identifier=overview\n"
     ]
    }
   ],
   "source": [
    "print response.url"
   ]
  },
  {
   "cell_type": "markdown",
   "metadata": {},
   "source": [
    "## Execute Request"
   ]
  },
  {
   "cell_type": "code",
   "execution_count": 17,
   "metadata": {
    "collapsed": false
   },
   "outputs": [
    {
     "name": "stderr",
     "output_type": "stream",
     "text": [
      "/home/pingu/.conda/envs/notebook/lib/python2.7/site-packages/requests/packages/urllib3/connectionpool.py:843: InsecureRequestWarning: Unverified HTTPS request is being made. Adding certificate verification is strongly advised. See: https://urllib3.readthedocs.io/en/latest/advanced-usage.html#ssl-warnings\n",
      "  InsecureRequestWarning)\n"
     ]
    }
   ],
   "source": [
    "from requests.utils import quote\n",
    "\n",
    "inputs=quote(\"model=MPI-ESM-LR;experiment=historical;ensemble=r1i1p1;start_year=1990;end_year=2000\")\n",
    "headers = {'Access-Token': '9862dc25bc6342b9961d8fcb740c86f3'}\n",
    "\n",
    "response = requests.get(base_url + \n",
    "                        \"?Service=WPS&Request=Execute&Version=1.0.0&Identifier=overview&DataInputs=\"+inputs, \n",
    "                        verify=False,\n",
    "                        headers=headers)"
   ]
  },
  {
   "cell_type": "code",
   "execution_count": 18,
   "metadata": {
    "collapsed": false
   },
   "outputs": [
    {
     "name": "stdout",
     "output_type": "stream",
     "text": [
      "https://bovec.dkrz.de/ows/proxy/esmvaltool?Service=WPS&Request=Execute&Version=1.0.0&Identifier=overview&DataInputs=model%3DMPI-ESM-LR%3Bexperiment%3Dhistorical%3Bensemble%3Dr1i1p1%3Bstart_year%3D1990%3Bend_year%3D2000\n"
     ]
    }
   ],
   "source": [
    "print response.url"
   ]
  },
  {
   "cell_type": "code",
   "execution_count": 19,
   "metadata": {
    "collapsed": false
   },
   "outputs": [
    {
     "name": "stdout",
     "output_type": "stream",
     "text": [
      "<!-- PyWPS 4.0.0rc2 -->\n",
      "<wps:ExecuteResponse xmlns:gml=\"http://www.opengis.net/gml\" xmlns:ows=\"http://www.opengis.net/ows/1.1\" xmlns:wps=\"http://www.opengis.net/wps/1.0.0\" xmlns:xlink=\"http://www.w3.org/1999/xlink\" xmlns:xsi=\"http://www.w3.org/2001/XMLSchema-instance\" xsi:schemaLocation=\"http://www.opengis.net/wps/1.0.0 http://schemas.opengis.net/wps/1.0.0/wpsExecute_response.xsd\" service=\"WPS\" version=\"1.0.0\" xml:lang=\"en-US\" serviceInstance=\"http://bovec.dkrz.de:8095/wps?service=WPS&amp;request=GetCapabilities\" statusLocation=\"http://bovec.dkrz.de:8090/wpsoutputs/esmvalwps/ffdb7f7e-c83e-11e6-bbb4-dea873cae3fc.xml\">\n",
      "  <wps:Process wps:processVersion=\"1.0\">\n",
      "    <ows:Identifier>overview</ows:Identifier>\n",
      "    <ows:Title>ESMValTool: surface contour plot for precipitation</ows:Title>\n",
      "    <ows:Abstract>Tutorial contour plot used in the doc/overview.pdf.</ows:Abstract>\n",
      "  </wps:Process>\n",
      "  <wps:Status creationTime=\"2016-12-22T13:06:08Z\">\n",
      "    <wps:ProcessSucceeded>PyWPS Process ESMValTool: surface contour plot for precipitation finished</wps:ProcessSucceeded>\n",
      "  </wps:Status>\n",
      "  <wps:ProcessOutputs>\n",
      "    <wps:Output>\n",
      "      <ows:Identifier>namelist</ows:Identifier>\n",
      "      <ows:Title>namelist</ows:Title>\n",
      "      <ows:Abstract>ESMValTool namelist used for processing.</ows:Abstract>\n",
      "      <wps:Reference xlink:href=\"http://bovec.dkrz.de:8090/wpsoutputs/esmvalwps/namelistM3Ck8j.xml\" mimeType=\"text/plain\"/>\n",
      "    </wps:Output>\n",
      "    <wps:Output>\n",
      "      <ows:Identifier>log</ows:Identifier>\n",
      "      <ows:Title>Log File</ows:Title>\n",
      "      <ows:Abstract>Log File of ESMValTool processing.</ows:Abstract>\n",
      "      <wps:Reference xlink:href=\"http://bovec.dkrz.de:8090/wpsoutputs/esmvalwps/logOhMP4A.txt\" mimeType=\"text/plain\"/>\n",
      "    </wps:Output>\n",
      "    <wps:Output>\n",
      "      <ows:Identifier>output</ows:Identifier>\n",
      "      <ows:Title>Output plot</ows:Title>\n",
      "      <ows:Abstract>Generated output plot of ESMValTool processing.</ows:Abstract>\n",
      "      <wps:Reference xlink:href=\"http://bovec.dkrz.de:8090/wpsoutputs/esmvalwps/surfconplot_simple_pr_T2Ms_ANNpavtTJ.pdf\" mimeType=\"application/pdf\"/>\n",
      "    </wps:Output>\n",
      "  </wps:ProcessOutputs>\n",
      "</wps:ExecuteResponse>\n",
      "\n"
     ]
    }
   ],
   "source": [
    "print response.text"
   ]
  },
  {
   "cell_type": "markdown",
   "metadata": {
    "collapsed": true
   },
   "source": [
    "## Output Plot\n",
    "\n",
    "Output Reference (mime-type application/pdf):\n",
    "http://bovec.dkrz.de:8090/wpsoutputs/esmvalwps/surfconplot_simple_pr_T2Ms_ANN4nlwBI.pdf"
   ]
  },
  {
   "cell_type": "code",
   "execution_count": null,
   "metadata": {
    "collapsed": true
   },
   "outputs": [],
   "source": []
  }
 ],
 "metadata": {
  "kernelspec": {
   "display_name": "Python 2",
   "language": "python",
   "name": "python2"
  },
  "language_info": {
   "codemirror_mode": {
    "name": "ipython",
    "version": 2
   },
   "file_extension": ".py",
   "mimetype": "text/x-python",
   "name": "python",
   "nbconvert_exporter": "python",
   "pygments_lexer": "ipython2",
   "version": "2.7.13"
  }
 },
 "nbformat": 4,
 "nbformat_minor": 2
}
