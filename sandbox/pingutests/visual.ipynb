{
 "metadata": {
  "name": "",
  "signature": "sha256:5da4bd9636116668c6bb3eeef15046ed728eb34742257169c08661f3f6dca983"
 },
 "nbformat": 3,
 "nbformat_minor": 0,
 "worksheets": [
  {
   "cells": [
    {
     "cell_type": "code",
     "collapsed": false,
     "input": [
      "from owslib.wps import WebProcessingService, monitorExecution\n",
      "wps = WebProcessingService(url=\"https://localhost/wps\", verbose=False)\n"
     ],
     "language": "python",
     "metadata": {},
     "outputs": [],
     "prompt_number": 1
    },
    {
     "cell_type": "code",
     "collapsed": false,
     "input": [
      "# generate tas plot for three netcdf files (ensemble)\n",
      "execute = wps.execute(\n",
      "    identifier=\"de.csc.visualisation.worker\",\n",
      "    inputs=[\n",
      "    (\"variable\", \"tas\"),\n",
      "    (\"file_identifier\",\n",
      "     \"https://mouflon.dkrz.de/wpsoutputs/tutorial/tas_day_MPI-ESM-LR_historical_r1i1p1_20000101-20051231.nc\"),\n",
      "#    (\"file_identifier\",\n",
      "#     \"https://mouflon.dkrz.de/wpsoutputs/tutorial/tas_day_MPI-ESM-LR_historical_r2i1p1_20000101-20051231.nc\"),\n",
      "#    (\"file_identifier\",\n",
      "#     \"https://mouflon.dkrz.de/wpsoutputs/tutorial/tas_day_MPI-ESM-LR_historical_r3i1p1_20000101-20051231.nc\")\n",
      "    ],\n",
      "    output=[(\"output\", True)])\n",
      "\n",
      "# check process if completed ...\n",
      "monitorExecution(execute, sleepSecs=5)\n"
     ],
     "language": "python",
     "metadata": {},
     "outputs": [
      {
       "output_type": "stream",
       "stream": "stdout",
       "text": [
        "Executing WPS request...\n",
        "Execution status=ProcessAccepted"
       ]
      },
      {
       "output_type": "stream",
       "stream": "stdout",
       "text": [
        "\n",
        "Percent completed=0\n",
        "Status message=Process de.csc.visualisation.worker accepted\n",
        "\n",
        "Checking execution status... (location=http://localhost:8091/wpsoutputs/pywps-9e6bbee0-dd1b-11e3-9344-5c260a40ceb8.xml)\n",
        "Execution status=ProcessAccepted\n",
        "Percent completed=0\n",
        "Status message=Process de.csc.visualisation.worker accepted\n",
        "Sleeping 5 seconds...\n",
        "Execution status: ProcessAccepted"
       ]
      }
     ]
    },
    {
     "cell_type": "code",
     "collapsed": false,
     "input": [
      "# print output url ...\n",
      "o = execute.processOutputs[0]\n",
      "print o.reference"
     ],
     "language": "python",
     "metadata": {},
     "outputs": []
    },
    {
     "cell_type": "code",
     "collapsed": false,
     "input": [],
     "language": "python",
     "metadata": {},
     "outputs": []
    }
   ],
   "metadata": {}
  }
 ]
}