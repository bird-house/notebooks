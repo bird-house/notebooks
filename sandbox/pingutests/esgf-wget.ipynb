{
 "metadata": {
  "name": "",
  "signature": "sha256:75062da34da05e4fd586292ea73d7af2d71834448dc23f6c3e541706088beb4b"
 },
 "nbformat": 3,
 "nbformat_minor": 0,
 "worksheets": [
  {
   "cells": [
    {
     "cell_type": "code",
     "collapsed": false,
     "input": [
      "from owslib.wps import WebProcessingService, monitorExecution"
     ],
     "language": "python",
     "metadata": {},
     "outputs": [],
     "prompt_number": 1
    },
    {
     "cell_type": "code",
     "collapsed": false,
     "input": [
      "wps=WebProcessingService(url=\"https://localhost/wps\")\n",
      "execution = wps.execute(\n",
      "    identifier=\"org.malleefowl.esgf.wget.source\",\n",
      "    inputs=[(\"token\", \"OAsCwX5dQ7e0SxYtbeJNvQ\"),\n",
      "            (\"credentials\", \"http://localhost:8091/wpsoutputs/output-67e0def2-db5c-11e3-80d8-5c260a40ceb8.pem\"),\n",
      "            (\"file_identifier\", \"http://bmbf-ipcc-ar5.dkrz.de/thredds/fileServer/cmip5/output1/MPI-M/MPI-ESM-LR/historical/day/atmos/day/r1i1p1/v20111006/tas/tas_day_MPI-ESM-LR_historical_r1i1p1_20000101-20051231.nc\")],\n",
      "    output=[(\"output\", True)]\n",
      ")\n",
      "monitorExecution(execution)\n",
      "\n",
      "\n",
      "\n",
      "\n",
      "\n"
     ],
     "language": "python",
     "metadata": {},
     "outputs": [
      {
       "output_type": "stream",
       "stream": "stdout",
       "text": [
        "Executing WPS request...\n",
        "Execution status=ProcessAccepted"
       ]
      },
      {
       "output_type": "stream",
       "stream": "stdout",
       "text": [
        "\n",
        "Percent completed=0\n",
        "Status message=Process org.malleefowl.esgf.wget.source accepted\n",
        "\n",
        "Checking execution status... (location=http://localhost:8091/wpsoutputs/pywps-eb297f9a-db65-11e3-ae8e-5c260a40ceb8.xml)\n",
        "Execution status=ProcessAccepted\n",
        "Percent completed=0\n",
        "Status message=Process org.malleefowl.esgf.wget.source accepted\n",
        "Sleeping 3 seconds...\n",
        "Execution status: ProcessAccepted"
       ]
      },
      {
       "output_type": "stream",
       "stream": "stdout",
       "text": [
        "\n",
        "\n",
        "Checking execution status... (location=http://localhost:8091/wpsoutputs/pywps-eb297f9a-db65-11e3-ae8e-5c260a40ceb8.xml)\n",
        "Execution status=ProcessFailed\n",
        "Percent completed=0\n",
        "Status message=\n",
        "            \n",
        " owslib.wps.WPSException : {'locator': 'None', 'code': 'NoApplicableCode', 'text': \"Failed\\\\ to\\\\ execute\\\\ WPS\\\\ process\\\\ \\\\[org\\\\.malleefowl\\\\.esgf\\\\.wget\\\\.source\\\\]\\\\:\\\\ wget\\\\ failed\\\\ \\\\(PyWPS\\\\ could\\\\ not\\\\ perform\\\\ command\\\\ \\\\[\\\\[\\\\'wget\\\\'\\\\,\\\\ \\\\'\\\\-\\\\-certificate\\\\'\\\\,\\\\ \\\\'\\\\.\\\\/pywpsInputAuhRoH\\\\'\\\\,\\\\ \\\\'\\\\-\\\\-private\\\\-key\\\\'\\\\,\\\\ \\\\'\\\\.\\\\/pywpsInputAuhRoH\\\\'\\\\,\\\\ \\\\'\\\\-\\\\-no\\\\-check\\\\-certificate\\\\'\\\\,\\\\ \\\\'\\\\-N\\\\'\\\\,\\\\ \\\\'\\\\-P\\\\'\\\\,\\\\ \\\\'\\\\/var\\\\/lib\\\\/pywps\\\\/cache\\\\'\\\\,\\\\ \\\\'\\\\-\\\\-progress\\\\'\\\\,\\\\ \\\\'dot\\\\:mega\\\\'\\\\,\\\\ \\\\'http\\\\:\\\\/\\\\/bmbf\\\\-ipcc\\\\-ar5\\\\.dkrz\\\\.de\\\\/thredds\\\\/fileServer\\\\/cmip5\\\\/output1\\\\/MPI\\\\-M\\\\/MPI\\\\-ESM\\\\-LR\\\\/historical\\\\/day\\\\/atmos\\\\/day\\\\/r1i1p1\\\\/v20111006\\\\/tas\\\\/tas\\\\_day\\\\_MPI\\\\-ESM\\\\-LR\\\\_historical\\\\_r1i1p1\\\\_20000101\\\\-20051231\\\\.nc\\\\'\\\\]\\\\]\\\\:\\\\\\n\\\\-\\\\-2014\\\\-05\\\\-14\\\\ 14\\\\:47\\\\:34\\\\-\\\\-\\\\ \\\\ http\\\\:\\\\/\\\\/bmbf\\\\-ipcc\\\\-ar5\\\\.dkrz\\\\.de\\\\/thredds\\\\/fileServer\\\\/cmip5\\\\/output1\\\\/MPI\\\\-M\\\\/MPI\\\\-ESM\\\\-LR\\\\/historical\\\\/day\\\\/atmos\\\\/day\\\\/r1i1p1\\\\/v20111006\\\\/tas\\\\/tas\\\\_day\\\\_MPI\\\\-ESM\\\\-LR\\\\_historical\\\\_r1i1p1\\\\_20000101\\\\-20051231\\\\.nc\\\\\\nResolving\\\\ bmbf\\\\-ipcc\\\\-ar5\\\\.dkrz\\\\.de\\\\ \\\\(bmbf\\\\-ipcc\\\\-ar5\\\\.dkrz\\\\.de\\\\)\\\\.\\\\.\\\\.\\\\ 136\\\\.172\\\\.30\\\\.9\\\\\\nConnecting\\\\ to\\\\ bmbf\\\\-ipcc\\\\-ar5\\\\.dkrz\\\\.de\\\\ \\\\(bmbf\\\\-ipcc\\\\-ar5\\\\.dkrz\\\\.de\\\\)\\\\|136\\\\.172\\\\.30\\\\.9\\\\|\\\\:80\\\\.\\\\.\\\\.\\\\ connected\\\\.\\\\\\nHTTP\\\\ request\\\\ sent\\\\,\\\\ awaiting\\\\ response\\\\.\\\\.\\\\.\\\\ 302\\\\ Found\\\\\\nLocation\\\\:\\\\ https\\\\:\\\\/\\\\/bmbf\\\\-ipcc\\\\-ar5\\\\.dkrz\\\\.de\\\\/esg\\\\-orp\\\\/home\\\\.htm\\\\?redirect\\\\=http\\\\%3A\\\\%2F\\\\%2Fbmbf\\\\-ipcc\\\\-ar5\\\\.dkrz\\\\.de\\\\%2Fthredds\\\\%2FfileServer\\\\%2Fcmip5\\\\%2Foutput1\\\\%2FMPI\\\\-M\\\\%2FMPI\\\\-ESM\\\\-LR\\\\%2Fhistorical\\\\%2Fday\\\\%2Fatmos\\\\%2Fday\\\\%2Fr1i1p1\\\\%2Fv20111006\\\\%2Ftas\\\\%2Ftas\\\\_day\\\\_MPI\\\\-ESM\\\\-LR\\\\_historical\\\\_r1i1p1\\\\_20000101\\\\-20051231\\\\.nc\\\\ \\\\[following\\\\]\\\\\\n\\\\-\\\\-2014\\\\-05\\\\-14\\\\ 14\\\\:47\\\\:34\\\\-\\\\-\\\\ \\\\ https\\\\:\\\\/\\\\/bmbf\\\\-ipcc\\\\-ar5\\\\.dkrz\\\\.de\\\\/esg\\\\-orp\\\\/home\\\\.htm\\\\?redirect\\\\=http\\\\%3A\\\\%2F\\\\%2Fbmbf\\\\-ipcc\\\\-ar5\\\\.dkrz\\\\.de\\\\%2Fthredds\\\\%2FfileServer\\\\%2Fcmip5\\\\%2Foutput1\\\\%2FMPI\\\\-M\\\\%2FMPI\\\\-ESM\\\\-LR\\\\%2Fhistorical\\\\%2Fday\\\\%2Fatmos\\\\%2Fday\\\\%2Fr1i1p1\\\\%2Fv20111006\\\\%2Ftas\\\\%2Ftas\\\\_day\\\\_MPI\\\\-ESM\\\\-LR\\\\_historical\\\\_r1i1p1\\\\_20000101\\\\-20051231\\\\.nc\\\\\\nConnecting\\\\ to\\\\ bmbf\\\\-ipcc\\\\-ar5\\\\.dkrz\\\\.de\\\\ \\\\(bmbf\\\\-ipcc\\\\-ar5\\\\.dkrz\\\\.de\\\\)\\\\|136\\\\.172\\\\.30\\\\.9\\\\|\\\\:443\\\\.\\\\.\\\\.\\\\ connected\\\\.\\\\\\nGnuTLS\\\\:\\\\ Resource\\\\ temporarily\\\\ unavailable\\\\,\\\\ try\\\\ again\\\\.\\\\\\nUnable\\\\ to\\\\ establish\\\\ SSL\\\\ connection\\\\.\\\\\\n\\\\)\\\\.\"}\n",
        "Execution status: ProcessFailed\n",
        "Error: code=NoApplicableCode, locator=None, text=Failed\\ to\\ execute\\ WPS\\ process\\ \\[org\\.malleefowl\\.esgf\\.wget\\.source\\]\\:\\ wget\\ failed\\ \\(PyWPS\\ could\\ not\\ perform\\ command\\ \\[\\[\\'wget\\'\\,\\ \\'\\-\\-certificate\\'\\,\\ \\'\\.\\/pywpsInputAuhRoH\\'\\,\\ \\'\\-\\-private\\-key\\'\\,\\ \\'\\.\\/pywpsInputAuhRoH\\'\\,\\ \\'\\-\\-no\\-check\\-certificate\\'\\,\\ \\'\\-N\\'\\,\\ \\'\\-P\\'\\,\\ \\'\\/var\\/lib\\/pywps\\/cache\\'\\,\\ \\'\\-\\-progress\\'\\,\\ \\'dot\\:mega\\'\\,\\ \\'http\\:\\/\\/bmbf\\-ipcc\\-ar5\\.dkrz\\.de\\/thredds\\/fileServer\\/cmip5\\/output1\\/MPI\\-M\\/MPI\\-ESM\\-LR\\/historical\\/day\\/atmos\\/day\\/r1i1p1\\/v20111006\\/tas\\/tas\\_day\\_MPI\\-ESM\\-LR\\_historical\\_r1i1p1\\_20000101\\-20051231\\.nc\\'\\]\\]\\:\\\n",
        "\\-\\-2014\\-05\\-14\\ 14\\:47\\:34\\-\\-\\ \\ http\\:\\/\\/bmbf\\-ipcc\\-ar5\\.dkrz\\.de\\/thredds\\/fileServer\\/cmip5\\/output1\\/MPI\\-M\\/MPI\\-ESM\\-LR\\/historical\\/day\\/atmos\\/day\\/r1i1p1\\/v20111006\\/tas\\/tas\\_day\\_MPI\\-ESM\\-LR\\_historical\\_r1i1p1\\_20000101\\-20051231\\.nc\\\n",
        "Resolving\\ bmbf\\-ipcc\\-ar5\\.dkrz\\.de\\ \\(bmbf\\-ipcc\\-ar5\\.dkrz\\.de\\)\\.\\.\\.\\ 136\\.172\\.30\\.9\\\n",
        "Connecting\\ to\\ bmbf\\-ipcc\\-ar5\\.dkrz\\.de\\ \\(bmbf\\-ipcc\\-ar5\\.dkrz\\.de\\)\\|136\\.172\\.30\\.9\\|\\:80\\.\\.\\.\\ connected\\.\\\n",
        "HTTP\\ request\\ sent\\,\\ awaiting\\ response\\.\\.\\.\\ 302\\ Found\\\n",
        "Location\\:\\ https\\:\\/\\/bmbf\\-ipcc\\-ar5\\.dkrz\\.de\\/esg\\-orp\\/home\\.htm\\?redirect\\=http\\%3A\\%2F\\%2Fbmbf\\-ipcc\\-ar5\\.dkrz\\.de\\%2Fthredds\\%2FfileServer\\%2Fcmip5\\%2Foutput1\\%2FMPI\\-M\\%2FMPI\\-ESM\\-LR\\%2Fhistorical\\%2Fday\\%2Fatmos\\%2Fday\\%2Fr1i1p1\\%2Fv20111006\\%2Ftas\\%2Ftas\\_day\\_MPI\\-ESM\\-LR\\_historical\\_r1i1p1\\_20000101\\-20051231\\.nc\\ \\[following\\]\\\n",
        "\\-\\-2014\\-05\\-14\\ 14\\:47\\:34\\-\\-\\ \\ https\\:\\/\\/bmbf\\-ipcc\\-ar5\\.dkrz\\.de\\/esg\\-orp\\/home\\.htm\\?redirect\\=http\\%3A\\%2F\\%2Fbmbf\\-ipcc\\-ar5\\.dkrz\\.de\\%2Fthredds\\%2FfileServer\\%2Fcmip5\\%2Foutput1\\%2FMPI\\-M\\%2FMPI\\-ESM\\-LR\\%2Fhistorical\\%2Fday\\%2Fatmos\\%2Fday\\%2Fr1i1p1\\%2Fv20111006\\%2Ftas\\%2Ftas\\_day\\_MPI\\-ESM\\-LR\\_historical\\_r1i1p1\\_20000101\\-20051231\\.nc\\\n",
        "Connecting\\ to\\ bmbf\\-ipcc\\-ar5\\.dkrz\\.de\\ \\(bmbf\\-ipcc\\-ar5\\.dkrz\\.de\\)\\|136\\.172\\.30\\.9\\|\\:443\\.\\.\\.\\ connected\\.\\\n",
        "GnuTLS\\:\\ Resource\\ temporarily\\ unavailable\\,\\ try\\ again\\.\\\n",
        "Unable\\ to\\ establish\\ SSL\\ connection\\.\\\n",
        "\\)\\.\n"
       ]
      }
     ],
     "prompt_number": 5
    },
    {
     "cell_type": "code",
     "collapsed": false,
     "input": [],
     "language": "python",
     "metadata": {},
     "outputs": []
    }
   ],
   "metadata": {}
  }
 ]
}