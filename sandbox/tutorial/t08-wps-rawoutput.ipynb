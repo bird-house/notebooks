{
 "metadata": {
  "name": "",
  "signature": "sha256:fe8284b858bbf753dd390e292fe65d82139a12637b30e931e9a90d7dcd93cb95"
 },
 "nbformat": 3,
 "nbformat_minor": 0,
 "worksheets": [
  {
   "cells": [
    {
     "cell_type": "heading",
     "level": 1,
     "metadata": {},
     "source": [
      "Tutorial: WPS execute request with raw output"
     ]
    },
    {
     "cell_type": "markdown",
     "metadata": {},
     "source": [
      "Template for raw output request ..."
     ]
    },
    {
     "cell_type": "code",
     "collapsed": false,
     "input": [
      "req_url = \"{wps_url}?\" +\\\n",
      "    \"request=Execute\" +\\\n",
      "    \"&service=WPS\" +\\\n",
      "    \"&version=1.0.0\" +\\\n",
      "    \"&identifier={identifier}\" +\\\n",
      "    \"&DataInputs={inputs}\" +\\\n",
      "    \"&RawDataOutput={outputs}\"\n",
      "    "
     ],
     "language": "python",
     "metadata": {},
     "outputs": [],
     "prompt_number": 1
    },
    {
     "cell_type": "markdown",
     "metadata": {},
     "source": [
      "Execute wordcount request with external document as input ..."
     ]
    },
    {
     "cell_type": "code",
     "collapsed": false,
     "input": [
      "import urllib\n",
      "text_url=\"https://gnu.org/licenses/gpl-3.0.txt\"\n",
      "\n",
      "url=req_url.format(\n",
      "    wps_url=\"http://localhost:8094/wps\",\n",
      "    identifier=\"wordcount\", \n",
      "    inputs=\"text=%s\" % (urllib.quote(text_url)),\n",
      "    outputs=\"output\")\n",
      "print url  "
     ],
     "language": "python",
     "metadata": {},
     "outputs": [
      {
       "output_type": "stream",
       "stream": "stdout",
       "text": [
        "http://localhost:8094/wps?request=Execute&service=WPS&version=1.0.0&identifier=wordcount&DataInputs=text=https%3A//gnu.org/licenses/gpl-3.0.txt&RawDataOutput=output\n"
       ]
      }
     ],
     "prompt_number": 2
    },
    {
     "cell_type": "markdown",
     "metadata": {},
     "source": [
      "Print result ..."
     ]
    },
    {
     "cell_type": "code",
     "collapsed": false,
     "input": [
      "print urllib.urlopen(url).read()"
     ],
     "language": "python",
     "metadata": {},
     "outputs": [
      {
       "output_type": "stream",
       "stream": "stdout",
       "text": [
        "[(309, 'the'), (210, 'of'), (177, 'to'), (171, 'a'), (138, 'or'), (106, 'you'), (97, 'work'), (91, 'that'), (91, 'and'), (76, 'in'), (74, 'this'), (74, 'License'), (73, 'for'), (67, 'is'), (51, 'it'), (48, 'not'), (44, 'under'), (43, 'with'), (43, 'any'), (41, 'covered'), (39, 'by'), (35, 'as'), (33, 'your'), (33, 'code'), (31, 'on'), (31, 'may'), (28, 'terms'), (28, 'from'), (28, 'be'), (28, 'are'), (27, 'license'), (26, 'other'), (26, 'Source'), (26, 'Program'), (25, 'copy'), (24, 'version'), (24, 'if'), (24, 'copyright'), (24, 'an'), (24, 'If'), (23, 'patent'), (23, 'Corresponding'), (21, 'which'), (21, 'use'), (21, 'software'), (21, 'convey'), (21, 'The'), (20, 'object'), (19, 'program'), (19, 'GNU'), (18, 'such'), (18, 'rights'), (18, 'means'), (18, 'all'), (18, 'You'), (18, 'Public'), (18, 'General'), (16, 'source'), (16, 'do'), (15, 'section'), (15, 'THE'), (14, 'product'), (14, 'must'), (14, 'make'), (14, 'have'), (14, 'free'), (13, 'those'), (13, 'provided'), (13, 'material'), (13, 'does'), (13, 'can'), (13, 'apply'), (13, 'OR'), (13, 'A'), (12, 'works'), (12, 'versions'), (12, 'used'), (12, 's'), (12, 'no'), (12, 'modify'), (12, 'modified'), (12, 'copies'), (12, 'conditions'), (12, 'but'), (12, 'This'), (11, 'so'), (11, 'form'), (11, 'conveying'), (10, 'warranty'), (10, 'permission'), (10, 'party'), (10, 'part'), (10, 'its'), (10, 'contributor'), (10, 'OF'), (9, 'propagate'), (9, 'permissions'), (9, 'available'), (9, 'additional'), (9, 'For'), (8, 'users'), (8, 'user'), (8, 'third'), (8, 'these'), (8, 'them'), (8, 'run'), (8, 'received'), (8, 'receive'), (8, 'particular'), (8, 'only'), (8, 'offer'), (8, 'notice'), (8, 'non'), (8, 'network'), (8, 'making'), (8, 'holder'), (8, 'has'), (8, 'further'), (8, 'either'), (8, 'charge'), (8, 'at'), (8, 'TO'), (7, 'would'), (7, 'will'), (7, 'who'), (7, 'way'), (7, 'transaction'), (7, 'one'), (7, 'notices'), (7, 'more'), (7, 'licenses'), (7, 'law'), (7, 'granted'), (7, 'freedom'), (7, 'authors'), (7, 'applicable'), (7, 'User'), (7, 'To'), (7, 'Product'), (7, 'PROGRAM'), (7, 'GPL'), (6, 'we'), (6, 'they'), (6, 'their'), (6, 'some'), (6, 'show'), (6, 'recipients'), (6, 'reasonable'), (6, 'public'), (6, 'physical'), (6, 'parts'), (6, 'parties'), (6, 'new'), (6, 'modification'), (6, 'medium'), (6, 'liability'), (6, 'legal'), (6, 'include'), (6, 'give'), (6, 'each'), (6, 'designed'), (6, 'control'), (6, 'based'), (6, 'b'), (6, 'also'), (6, 'Software'), (6, 'Free'), (6, 'Foundation'), (6, 'ANY'), (6, 'AND'), (6, '3'), (6, '2'), (6, '1'), (5, 'without'), (5, 'whether'), (5, 'where'), (5, 'violation'), (5, 'should'), (5, 'shall'), (5, 'server'), (5, 'same'), (5, 'requirements'), (5, 'requirement'), (5, 'require'), (5, 'recipient'), (5, 'place'), (5, 'patents'), (5, 'otherwise'), (5, 'need'), (5, 'most'), (5, 'into'), (5, 'interface'), (5, 'including'), (5, 'how'), (5, 'grant'), (5, 'extent'), (5, 'example'), (5, 'distribution'), (5, 'distribute'), (5, 'change'), (5, 'c'), (5, 'been'), (5, 'along'), (5, 'access'), (5, 'Legal'), (5, 'Convey'), (5, 'Additional'), (4, 'written'), (4, 'what'), (4, 'valid'), (4, 'using'), (4, 'unless'), (4, 'time'), (4, 'through'), (4, 'then'), (4, 'than'), (4, 'term'), (4, 'stating'), (4, 'stated'), (4, 'regardless'), (4, 'provide'), (4, 'programs'), (4, 'price'), (4, 'permissive'), (4, 'permanently'), (4, 'peer'), (4, 'org'), (4, 'obligations'), (4, 'licensors'), (4, 'later'), (4, 'interactive'), (4, 'install'), (4, 'information'), (4, 'includes'), (4, 'http'), (4, 'get'), (4, 'files'), (4, 'fee'), (4, 'exercise'), (4, 'different'), (4, 'copying'), (4, 'consumer'), (4, 'connection'), (4, 'claims'), (4, 'circumvention'), (4, 'certain'), (4, 'automatically'), (4, 'author'), (4, 'appropriate'), (4, 'anything'), (4, 'anyone'), (4, 'add'), (4, 'accord'), (4, 'YOU'), (4, 'WARRANTY'), (4, 'OTHER'), (4, 'Notices'), (4, 'Major'), (4, 'Installation'), (4, 'Information'), (4, 'However'), (4, 'FOR'), (4, 'Each'), (4, 'Copyright'), (4, 'Conveying'), (4, 'Component'), (4, 'Appropriate'), (4, '7'), (4, '4'), (4, '10'), (3, 'www'), (3, 'whole'), (3, 'when'), (3, 'want'), (3, 'uses'), (3, 'unmodified'), (3, 'technological'), (3, 'sure'), (3, 'support'), (3, 'specifically'), (3, 'specific'), (3, 'special'), (3, 'solely'), (3, 'separately'), (3, 'satisfy'), (3, 'running'), (3, 'royalty'), (3, 'right'), (3, 'resulting'), (3, 'restriction'), (3, 'remains'), (3, 'reinstated'), (3, 'refers'), (3, 'redistribute'), (3, 'receives'), (3, 'purposes'), (3, 'purpose'), (3, 'published'), (3, 'provision'), (3, 'protect'), (3, 'proprietary'), (3, 'propagation'), (3, 'prominent'), (3, 'products'), (3, 'problems'), (3, 'prior'), (3, 'predecessor'), (3, 'possession'), (3, 'permitted'), (3, 'permit'), (3, 'output'), (3, 'others'), (3, 'option'), (3, 'needed'), (3, 'name'), (3, 'modifications'), (3, 'measures'), (3, 'manner'), (3, 'long'), (3, 'licensed'), (3, 'keep'), (3, 'interfaces'), (3, 'interaction'), (3, 'intact'), (3, 'installed'), (3, 'infringement'), (3, 'infringed'), (3, 'included'), (3, 'impose'), (3, 'grants'), (3, 'governed'), (3, 'gnu'), (3, 'given'), (3, 'general'), (3, 'following'), (3, 'follow'), (3, 'executable'), (3, 'except'), (3, 'essential'), (3, 'equivalent'), (3, 'entire'), (3, 'document'), (3, 'details'), (3, 'd'), (3, 'country'), (3, 'could'), (3, 'conveyed'), (3, 'consequence'), (3, 'compilation'), (3, 'commands'), (3, 'cannot'), (3, 'called'), (3, 'arrangement'), (3, 'allowed'), (3, 'agreement'), (3, 'aggregate'), (3, 'added'), (3, 'activities'), (3, 'accompanied'), (3, 'acceptance'), (3, 'When'), (3, 'Therefore'), (3, 'System'), (3, 'NO'), (3, 'IS'), (3, 'INCLUDING'), (3, 'IN'), (3, 'DAMAGES'), (3, 'C'), (3, 'BY'), (3, 'Affero'), (3, 'AS'), (3, '2007'), (3, '16'), (3, '15'), (3, '11'), (2, 'year'), (2, 'within'), (2, 'wish'), (2, 'ways'), (2, 'w'), (2, 'verbatim'), (2, 'useful'), (2, 'type'), (2, 'transmission'), (2, 'too'), (2, 'thus'), (2, 'three'), (2, 'there'), (2, 'terminate'), (2, 'system'), (2, 'supplement'), (2, 'substantially'), (2, 'subsection'), (2, 'subprograms'), (2, 'statement'), (2, 'specifies'), (2, 'specified'), (2, 'single'), (2, 'similar'), (2, 'share'), (2, 'service'), (2, 'selling'), (2, 'see'), (2, 'sections'), (2, 'sale'), (2, 'restrictions'), (2, 'responsibilities'), (2, 'respect'), (2, 'requiring'), (2, 'required'), (2, 'remove'), (2, 'relying'), (2, 'relicensing'), (2, 'relevant'), (2, 'released'), (2, 'publish'), (2, 'publicly'), (2, 'proxy'), (2, 'protection'), (2, 'prohibit'), (2, 'produce'), (2, 'previous'), (2, 'prevent'), (2, 'practice'), (2, 'portion'), (2, 'personal'), (2, 'performing'), (2, 'paragraph'), (2, 'original'), (2, 'organizations'), (2, 'organization'), (2, 'order'), (2, 'operation'), (2, 'offering'), (2, 'occurs'), (2, 'numbered'), (2, 'number'), (2, 'normally'), (2, 'names'), (2, 'modifying'), (2, 'mode'), (2, 'marked'), (2, 'made'), (2, 'local'), (2, 'list'), (2, 'line'), (2, 'limiting'), (2, 'limit'), (2, 'like'), (2, 'library'), (2, 'least'), (2, 'laws'), (2, 'language'), (2, 'know'), (2, 'kinds'), (2, 'interest'), (2, 'interchange'), (2, 'infringe'), (2, 'individuals'), (2, 'individual'), (2, 'imposed'), (2, 'implied'), (2, 'implementation'), (2, 'however'), (2, 'gratis'), (2, 'giving'), (2, 'future'), (2, 'forbid'), (2, 'fixed'), (2, 'first'), (2, 'find'), (2, 'file'), (2, 'facilities'), (2, 'extend'), (2, 'express'), (2, 'explicitly'), (2, 'exclusively'), (2, 'exceptions'), (2, 'entity'), (2, 'ensure'), (2, 'enforcing'), (2, 'enforce'), (2, 'embodied'), (2, 'effectively'), (2, 'earlier'), (2, 'e'), (2, 'durable'), (2, 'domains'), (2, 'displays'), (2, 'display'), (2, 'discriminatory'), (2, 'disclaimer'), (2, 'directly'), (2, 'developers'), (2, 'definition'), (2, 'days'), (2, 'customarily'), (2, 'coverage'), (2, 'contractual'), (2, 'continue'), (2, 'contains'), (2, 'consistent'), (2, 'computer'), (2, 'communication'), (2, 'commitment'), (2, 'comes'), (2, 'combined'), (2, 'claim'), (2, 'choose'), (2, 'cause'), (2, 'cases'), (2, 'case'), (2, 'carry'), (2, 'both'), (2, 'authorizes'), (2, 'attach'), (2, 'assumptions'), (2, 'arrange'), (2, 'applies'), (2, 'against'), (2, 'after'), (2, 'acquired'), (2, 'accept'), (2, 'above'), (2, 'WRITING'), (2, 'WITHOUT'), (2, 'WITH'), (2, 'Versions'), (2, 'USE'), (2, 'These'), (2, 'Terms'), (2, 'Termination'), (2, 'TERMS'), (2, 'Standard'), (2, 'SUCH'), (2, 'Requiring'), (2, 'PURPOSE'), (2, 'PERMITTED'), (2, 'PARTY'), (2, 'PARTIES'), (2, 'PARTICULAR'), (2, 'Notwithstanding'), (2, 'No'), (2, 'NOT'), (2, 'MERCHANTABILITY'), (2, 'Libraries'), (2, 'LIMITED'), (2, 'LAW'), (2, 'Interface'), (2, 'In'), (2, 'IMPLIED'), (2, 'HOLDER'), (2, 'GENERAL'), (2, 'FITNESS'), (2, 'DATA'), (2, 'Copies'), (2, 'COPYRIGHT'), (2, 'CONDITIONS'), (2, 'But'), (2, 'BUT'), (2, 'An'), (2, 'All'), (2, 'APPLICABLE'), (2, '5'), (2, '13'), (1, 'yourself'), (1, 'years'), (1, 'worldwide'), (1, 'working'), (1, 'window'), (1, 'widely'), (1, 'why'), (1, 'whose'), (1, 'whom'), (1, 'whatever'), (1, 'were'), (1, 'well'), (1, 'welcome'), (1, 'was'), (1, 'warranties'), (1, 'waiver'), (1, 'waive'), (1, 'volume'), (1, 'void'), (1, 'visible'), (1, 'violates'), (1, 'view'), (1, 'updates'), (1, 'until'), (1, 'unpacking'), (1, 'unnecessary'), (1, 'unlimited'), (1, 'unacceptable'), (1, 'typical'), (1, 'two'), (1, 'treaty'), (1, 'treated'), (1, 'transferring'), (1, 'transferred'), (1, 'transfer'), (1, 'trademarks'), (1, 'trademark'), (1, 'trade'), (1, 'tools'), (1, 'threatened'), (1, 'though'), (1, 'things'), (1, 'therefore'), (1, 'terminates'), (1, 'terminated'), (1, 'terminal'), (1, 'tells'), (1, 'tangible'), (1, 'take'), (1, 'systematic'), (1, 'survive'), (1, 'surrender'), (1, 'supports'), (1, 'suffice'), (1, 'sue'), (1, 'substantial'), (1, 'subroutine'), (1, 'sublicenses'), (1, 'subject'), (1, 'subdividing'), (1, 'storage'), (1, 'steps'), (1, 'status'), (1, 'state'), (1, 'starts'), (1, 'start'), (1, 'standards'), (1, 'standard'), (1, 'stand'), (1, 'spirit'), (1, 'specify'), (1, 'speak'), (1, 'spare'), (1, 'sole'), (1, 'sold'), (1, 'simultaneously'), (1, 'significant'), (1, 'sign'), (1, 'short'), (1, 'shared'), (1, 'serves'), (1, 'separate'), (1, 'separable'), (1, 'semiconductor'), (1, 'sell'), (1, 'secondarily'), (1, 'scripts'), (1, 'scope'), (1, 'school'), (1, 'saying'), (1, 'sake'), (1, 'safest'), (1, 'runs'), (1, 'rules'), (1, 'revised'), (1, 'reviewing'), (1, 'return'), (1, 'retains'), (1, 'results'), (1, 'result'), (1, 'restricting'), (1, 'restrict'), (1, 'responsible'), (1, 'resolved'), (1, 'requires'), (1, 'represent'), (1, 'render'), (1, 'removal'), (1, 'remain'), (1, 'relationship'), (1, 'regenerate'), (1, 'regard'), (1, 'refrain'), (1, 'referring'), (1, 'recognized'), (1, 'receiving'), (1, 'receipt'), (1, 'reason'), (1, 'ready'), (1, 'reading'), (1, 'readily'), (1, 'readable'), (1, 'read'), (1, 'qualify'), (1, 'pursuant'), (1, 'publicity'), (1, 'provisionally'), (1, 'protocols'), (1, 'protecting'), (1, 'property'), (1, 'propagating'), (1, 'prominently'), (1, 'prohibits'), (1, 'prohibiting'), (1, 'programming'), (1, 'programmer'), (1, 'procuring'), (1, 'procedures'), (1, 'private'), (1, 'primarily'), (1, 'prevented'), (1, 'preservation'), (1, 'presents'), (1, 'present'), (1, 'preferred'), (1, 'precisely'), (1, 'precise'), (1, 'practical'), (1, 'power'), (1, 'possible'), (1, 'possesses'), (1, 'pointer'), (1, 'plus'), (1, 'please'), (1, 'pieces'), (1, 'physically'), (1, 'philosophy'), (1, 'pertinent'), (1, 'perpetuity'), (1, 'permits'), (1, 'peers'), (1, 'payment'), (1, 'pattern'), (1, 'password'), (1, 'pass'), (1, 'paragraphs'), (1, 'paper'), (1, 'packaging'), (1, 'packaged'), (1, 'owned'), (1, 'own'), (1, 'outside'), (1, 'our'), (1, 'origin'), (1, 'options'), (1, 'operating'), (1, 'operated'), (1, 'official'), (1, 'offered'), (1, 'occurring'), (1, 'occasionally'), (1, 'obligated'), (1, 'obligate'), (1, 'notify'), (1, 'notifies'), (1, 'nothing'), (1, 'normal'), (1, 'nor'), (1, 'noncommercially'), (1, 'next'), (1, 'neither'), (1, 'necessary'), (1, 'nature'), (1, 'modifies'), (1, 'model'), (1, 'misrepresentation'), (1, 'might'), (1, 'methods'), (1, 'met'), (1, 'merging'), (1, 'menu'), (1, 'meets'), (1, 'meet'), (1, 'measure'), (1, 'meaning'), (1, 'materially'), (1, 'masks'), (1, 'marks'), (1, 'manufacturer'), (1, 'makes'), (1, 'major'), (1, 'maintain'), (1, 'mail'), (1, 'machine'), (1, 'litigation'), (1, 'linking'), (1, 'linked'), (1, 'link'), (1, 'limitation'), (1, 'likewise'), (1, 'licensees'), (1, 'licensee'), (1, 'libraries'), (1, 'liable'), (1, 'lgpl'), (1, 'lawsuit'), (1, 'larger'), (1, 'knowledge'), (1, 'knowingly'), (1, 'kind'), (1, 'keys'), (1, 'key'), (1, 'kernel'), (1, 'itself'), (1, 'item'), (1, 'irrevocable'), (1, 'invalidate'), (1, 'intimate'), (1, 'interpreter'), (1, 'interfered'), (1, 'intention'), (1, 'intended'), (1, 'instead'), (1, 'inside'), (1, 'initiate'), (1, 'inform'), (1, 'industrial'), (1, 'indicating'), (1, 'indicate'), (1, 'independent'), (1, 'indemnification'), (1, 'incorporation'), (1, 'incorporating'), (1, 'incompatible'), (1, 'importing'), (1, 'import'), (1, 'implement'), (1, 'identifiable'), (1, 'idea'), (1, 'hypothetical'), (1, 'html'), (1, 'household'), (1, 'hosts'), (1, 'hope'), (1, 'holders'), (1, 'hereafter'), (1, 'having'), (1, 'had'), (1, 'guarantee'), (1, 'greatest'), (1, 'gives'), (1, 'generate'), (1, 'generally'), (1, 'fundamentally'), (1, 'functioning'), (1, 'full'), (1, 'fulfilling'), (1, 'fsf'), (1, 'freedoms'), (1, 'found'), (1, 'format'), (1, 'force'), (1, 'flow'), (1, 'finally'), (1, 'feature'), (1, 'favor'), (1, 'fashion'), (1, 'family'), (1, 'fair'), (1, 'fails'), (1, 'f'), (1, 'extensions'), (1, 'extended'), (1, 'expressly'), (1, 'explains'), (1, 'expects'), (1, 'expected'), (1, 'exercising'), (1, 'executing'), (1, 'execute'), (1, 'excuse'), (1, 'exclusive'), (1, 'exclusion'), (1, 'excluding'), (1, 'excluded'), (1, 'exact'), (1, 'everyone'), (1, 'every'), (1, 'ever'), (1, 'even'), (1, 'erroneously'), (1, 'entirely'), (1, 'entered'), (1, 'enables'), (1, 'enable'), (1, 'employer'), (1, 'electronic'), (1, 'efforts'), (1, 'effective'), (1, 'effected'), (1, 'effect'), (1, 'dynamically'), (1, 'dwelling'), (1, 'downstream'), (1, 'doubtful'), (1, 'documented'), (1, 'distributing'), (1, 'distributed'), (1, 'distinguishing'), (1, 'displayed'), (1, 'disclaim'), (1, 'directions'), (1, 'direction'), (1, 'differently'), (1, 'differ'), (1, 'devices'), (1, 'development'), (1, 'develop'), (1, 'determining'), (1, 'detail'), (1, 'designated'), (1, 'deprive'), (1, 'denying'), (1, 'deny'), (1, 'denominated'), (1, 'denied'), (1, 'defined'), (1, 'defenses'), (1, 'deemed'), (1, 'decide'), (1, 'date'), (1, 'data'), (1, 'danger'), (1, 'customer'), (1, 'cure'), (1, 'cross'), (1, 'criterion'), (1, 'covenant'), (1, 'courts'), (1, 'court'), (1, 'course'), (1, 'countries'), (1, 'counterclaim'), (1, 'cost'), (1, 'copyrighted'), (1, 'copyrightable'), (1, 'copyleft'), (1, 'conveys'), (1, 'conveyance'), (1, 'convenient'), (1, 'controlled'), (1, 'contrast'), (1, 'contradict'), (1, 'continued'), (1, 'context'), (1, 'contents'), (1, 'content'), (1, 'containing'), (1, 'contain'), (1, 'contact'), (1, 'construed'), (1, 'constitutes'), (1, 'constantly'), (1, 'conspicuously'), (1, 'considered'), (1, 'consider'), (1, 'conditioned'), (1, 'concerns'), (1, 'concerning'), (1, 'computers'), (1, 'component'), (1, 'comply'), (1, 'compliance'), (1, 'compiler'), (1, 'compilations'), (1, 'common'), (1, 'commercial'), (1, 'combine'), (1, 'combination'), (1, 'collect'), (1, 'closely'), (1, 'clearly'), (1, 'clear'), (1, 'class'), (1, 'civil'), (1, 'circumstances'), (1, 'choosing'), (1, 'characterized'), (1, 'changing'), (1, 'changed'), (1, 'cessation'), (1, 'cease'), (1, 'business'), (1, 'brief'), (1, 'box'), (1, 'body'), (1, 'beyond'), (1, 'between'), (1, 'best'), (1, 'benefit'), (1, 'below'), (1, 'believe'), (1, 'being'), (1, 'behalf'), (1, 'because'), (1, 'away'), (1, 'avoid'), (1, 'authorizing'), (1, 'authorized'), (1, 'authorization'), (1, 'attributions'), (1, 'attributed'), (1, 'attempt'), (1, 'assures'), (1, 'assumption'), (1, 'associated'), (1, 'assets'), (1, 'assert'), (1, 'asking'), (1, 'article'), (1, 'arise'), (1, 'area'), (1, 'approximates'), (1, 'appropriately'), (1, 'applied'), (1, 'applications'), (1, 'among'), (1, 'although'), (1, 'alternative'), (1, 'already'), (1, 'allow'), (1, 'alleging'), (1, 'aim'), (1, 'agree'), (1, 'affirms'), (1, 'affirmed'), (1, 'affects'), (1, 'adversely'), (1, 'adopted'), (1, 'addressed'), (1, 'address'), (1, 'adapt'), (1, 'actually'), (1, 'actual'), (1, 'activity'), (1, 'actions'), (1, 'across'), (1, 'acknowledges'), (1, 'achieve'), (1, 'according'), (1, 'accompanies'), (1, 'accessible'), (1, 'abuse'), (1, 'absolute'), (1, 'absence'), (1, 'about'), (1, 'ability'), (1, 'Your'), (1, 'We'), (1, 'Warranty'), (1, 'WIPO'), (1, 'WILL'), (1, 'WHO'), (1, 'WHEN'), (1, 'WARRANTIES'), (1, 'Version'), (1, 'Verbatim'), (1, 'Users'), (1, 'Use'), (1, 'UNLESS'), (1, 'Those'), (1, 'THIRD'), (1, 'THERE'), (1, 'Surrender'), (1, 'Such'), (1, 'Sublicensing'), (1, 'States'), (1, 'Some'), (1, 'See'), (1, 'Sections'), (1, 'SUSTAINED'), (1, 'STATED'), (1, 'SPECIAL'), (1, 'SHOULD'), (1, 'SERVICING'), (1, 'Rights'), (1, 'Revised'), (1, 'Required'), (1, 'Regardless'), (1, 'Recipients'), (1, 'ROM'), (1, 'RISK'), (1, 'REQUIRED'), (1, 'REPAIR'), (1, 'RENDERED'), (1, 'QUALITY'), (1, 'Protecting'), (1, 'Propagation'), (1, 'Prohibiting'), (1, 'Programs'), (1, 'Preamble'), (1, 'Permissions'), (1, 'Patents'), (1, 'PUBLIC'), (1, 'PROVIDE'), (1, 'PROVE'), (1, 'PROGRAMS'), (1, 'POSSIBILITY'), (1, 'PERFORMANCE'), (1, 'Our'), (1, 'Others'), (1, 'Of'), (1, 'Object'), (1, 'OUT'), (1, 'OTHERWISE'), (1, 'OPERATE'), (1, 'Nothing'), (1, 'Not'), (1, 'Non'), (1, 'New'), (1, 'NECESSARY'), (1, 'Moreover'), (1, 'Modified'), (1, 'Mere'), (1, 'March'), (1, 'MODIFIES'), (1, 'Limiting'), (1, 'Limitation'), (1, 'Licensing'), (1, 'Licenses'), (1, 'Licensees'), (1, 'Library'), (1, 'Liability'), (1, 'Lesser'), (1, 'Law'), (1, 'Later'), (1, 'LOSSES'), (1, 'LOSS'), (1, 'LICENSE'), (1, 'LIABLE'), (1, 'Knowingly'), (1, 'KIND'), (1, 'June'), (1, 'It'), (1, 'Interpretation'), (1, 'Inclusion'), (1, 'Inc'), (1, 'INCIDENTAL'), (1, 'INACCURATE'), (1, 'INABILITY'), (1, 'IF'), (1, 'How'), (1, 'Having'), (1, 'HOLDERS'), (1, 'HAS'), (1, 'GUI'), (1, 'From'), (1, 'Freedom'), (1, 'Forms'), (1, 'Finally'), (1, 'FAILURE'), (1, 'Everyone'), (1, 'EXTENT'), (1, 'EXPRESSED'), (1, 'EXCEPT'), (1, 'EVENT'), (1, 'EVEN'), (1, 'ENTIRE'), (1, 'END'), (1, 'EITHER'), (1, 'Downstream'), (1, 'Disclaiming'), (1, 'Disclaimer'), (1, 'Developers'), (1, 'Definitions'), (1, 'Declining'), (1, 'December'), (1, 'DEFECTIVE'), (1, 'Code'), (1, 'Circumvention'), (1, 'COST'), (1, 'CORRECTION'), (1, 'CONVEYS'), (1, 'CONSEQUENTIAL'), (1, 'By'), (1, 'Basic'), (1, 'BEING'), (1, 'BEEN'), (1, 'BE'), (1, 'Automatic'), (1, 'Apply'), (1, 'Any'), (1, 'Anti'), (1, 'And'), (1, 'Ancillary'), (1, 'Also'), (1, 'Access'), (1, 'Acceptance'), (1, 'ASSUME'), (1, 'ARISING'), (1, 'ALL'), (1, 'AGREED'), (1, 'ADVISED'), (1, 'ABSOLUTELY'), (1, 'ABOVE'), (1, '9'), (1, '8'), (1, '6d'), (1, '6b'), (1, '60'), (1, '6'), (1, '30'), (1, '29'), (1, '28'), (1, '20'), (1, '1996'), (1, '17'), (1, '14'), (1, '12'), (1, '0')]\n"
       ]
      }
     ],
     "prompt_number": 3
    },
    {
     "cell_type": "markdown",
     "metadata": {},
     "source": [
      "Next a request with chomsky text generator ..."
     ]
    },
    {
     "cell_type": "code",
     "collapsed": false,
     "input": [
      "url=req_url.format(\n",
      "    wps_url=\"http://localhost:8094/wps\",\n",
      "    identifier=\"chomsky\", \n",
      "    inputs=\"times=5\",\n",
      "    outputs=\"output\")\n",
      "print url  "
     ],
     "language": "python",
     "metadata": {},
     "outputs": [
      {
       "output_type": "stream",
       "stream": "stdout",
       "text": [
        "http://localhost:8094/wps?request=Execute&service=WPS&version=1.0.0&identifier=chomsky&DataInputs=times=5&RawDataOutput=output\n"
       ]
      }
     ],
     "prompt_number": 4
    },
    {
     "cell_type": "markdown",
     "metadata": {},
     "source": [
      "Print result ..."
     ]
    },
    {
     "cell_type": "code",
     "collapsed": false,
     "input": [
      "print urllib.urlopen(url).read()"
     ],
     "language": "python",
     "metadata": {},
     "outputs": [
      {
       "output_type": "stream",
       "stream": "stdout",
       "text": [
        "Suppose, for instance, that most of the methodological work in modern\n",
        "linguistics is unspecified with respect to the strong generative\n",
        "capacity of the theory. Let us continue to suppose that this\n",
        "selectionally introduced contextual feature is to be regarded as the\n",
        "extended c-command discussed in connection with (34). It may be, then,\n",
        "that the theory of syntactic features developed earlier is not quite\n",
        "equivalent to a general convention regarding the forms of the grammar.\n",
        "However, this assumption is not correct, since the notion of level of\n",
        "grammaticalness may remedy and, at the same time, eliminate the levels\n",
        "of acceptability from fairly high (e.g. (99a)) to virtual gibberish\n",
        "(e.g. (98d)). To characterize a linguistic level L, a descriptively\n",
        "adequate grammar delimits a corpus of utterance tokens upon which\n",
        "conformity has been defined by the paired utterance test.\n"
       ]
      }
     ],
     "prompt_number": 7
    },
    {
     "cell_type": "code",
     "collapsed": false,
     "input": [],
     "language": "python",
     "metadata": {},
     "outputs": []
    }
   ],
   "metadata": {}
  }
 ]
}