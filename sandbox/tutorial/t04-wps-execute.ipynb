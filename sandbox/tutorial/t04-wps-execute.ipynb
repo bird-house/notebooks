{
 "metadata": {
  "name": "",
  "signature": "sha256:030f1ae157f07e0d123b1b91ec5bdf02f57773c97824d12942aa20eb11b7f808"
 },
 "nbformat": 3,
 "nbformat_minor": 0,
 "worksheets": [
  {
   "cells": [
    {
     "cell_type": "heading",
     "level": 1,
     "metadata": {},
     "source": [
      "Tutorial: WPS *execute* request"
     ]
    },
    {
     "cell_type": "markdown",
     "metadata": {},
     "source": [
      "Template for WPS execute request"
     ]
    },
    {
     "cell_type": "code",
     "collapsed": false,
     "input": [
      "req_url = \"{wps_url}?\" +\\\n",
      "    \"request=Execute\" +\\\n",
      "    \"&service=WPS\" +\\\n",
      "    \"&version=1.0.0\" +\\\n",
      "    \"&identifier={identifier}\" +\\\n",
      "    \"&DataInputs={inputs}\"\n",
      "    "
     ],
     "language": "python",
     "metadata": {},
     "outputs": [],
     "prompt_number": 1
    },
    {
     "cell_type": "markdown",
     "metadata": {},
     "source": [
      "Execute *HelloWorld* on mouflon again ..."
     ]
    },
    {
     "cell_type": "code",
     "collapsed": false,
     "input": [
      "url=req_url.format(\n",
      "    wps_url=\"http://localhost:8094/wps\",\n",
      "    identifier=\"helloworld\", \n",
      "    inputs=\"user=Catwoman\")\n",
      "print url"
     ],
     "language": "python",
     "metadata": {},
     "outputs": [
      {
       "output_type": "stream",
       "stream": "stdout",
       "text": [
        "http://localhost:8094/wps?request=Execute&service=WPS&version=1.0.0&identifier=helloworld&DataInputs=user=Catwoman\n"
       ]
      }
     ],
     "prompt_number": 2
    },
    {
     "cell_type": "markdown",
     "metadata": {},
     "source": [
      "Execute *temperatureConverter* on Plymouth ... \n",
      "\n",
      "Converts Celsius to Kelvin."
     ]
    },
    {
     "cell_type": "code",
     "collapsed": false,
     "input": [
      "url=req_url.format(\n",
      "    wps_url=\"http://rsg.pml.ac.uk/wps/generic.cgi\",\n",
      "    identifier=\"temperatureConverter\", \n",
      "    inputs=\"in=0\")\n",
      "print url    "
     ],
     "language": "python",
     "metadata": {},
     "outputs": [
      {
       "output_type": "stream",
       "stream": "stdout",
       "text": [
        "http://rsg.pml.ac.uk/wps/generic.cgi?request=Execute&service=WPS&version=1.0.0&identifier=temperatureConverter&DataInputs=in=0\n"
       ]
      }
     ],
     "prompt_number": 3
    },
    {
     "cell_type": "code",
     "collapsed": false,
     "input": [],
     "language": "python",
     "metadata": {},
     "outputs": []
    }
   ],
   "metadata": {}
  }
 ]
}