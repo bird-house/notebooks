{
 "metadata": {
  "name": "",
  "signature": "sha256:6f8903f44d2ac8f36df49eacaa0d55c0d16373354559a206e325478d51826b8e"
 },
 "nbformat": 3,
 "nbformat_minor": 0,
 "worksheets": [
  {
   "cells": [
    {
     "cell_type": "heading",
     "level": 1,
     "metadata": {},
     "source": [
      "Tutorial: WPS *async execute* request"
     ]
    },
    {
     "cell_type": "markdown",
     "metadata": {},
     "source": [
      "Template for async execute request"
     ]
    },
    {
     "cell_type": "code",
     "collapsed": false,
     "input": [
      "req_url = \"{wps_url}?\" +\\\n",
      "    \"request=Execute\" +\\\n",
      "    \"&service=WPS\" +\\\n",
      "    \"&version=1.0.0\" +\\\n",
      "    \"&identifier={identifier}\" +\\\n",
      "    \"&DataInputs={inputs}\" +\\\n",
      "    \"&storeExecuteResponse=true\" +\\\n",
      "    \"&status=true\"\n",
      "    "
     ],
     "language": "python",
     "metadata": {},
     "outputs": [],
     "prompt_number": 1
    },
    {
     "cell_type": "markdown",
     "metadata": {},
     "source": [
      "Execute the *ultimate question* process again ..."
     ]
    },
    {
     "cell_type": "code",
     "collapsed": false,
     "input": [
      "url=req_url.format(\n",
      "    wps_url=\"http://localhost:8094/wps\",\n",
      "    identifier=\"ultimatequestionprocess\", \n",
      "    inputs=\"\")\n",
      "print url  "
     ],
     "language": "python",
     "metadata": {},
     "outputs": [
      {
       "output_type": "stream",
       "stream": "stdout",
       "text": [
        "http://localhost:8094/wps?request=Execute&service=WPS&version=1.0.0&identifier=ultimatequestionprocess&DataInputs=&storeExecuteResponse=true&status=true\n"
       ]
      }
     ],
     "prompt_number": 2
    },
    {
     "cell_type": "markdown",
     "metadata": {},
     "source": [
      "Get the *statusLocation* link from the response ..."
     ]
    },
    {
     "cell_type": "code",
     "collapsed": false,
     "input": [
      "import urllib\n",
      "response = urllib.urlopen(url)\n",
      "from lxml import etree\n",
      "tree = etree.parse(response)\n",
      "#print etree.tostring(tree)\n",
      "print tree.getroot().get(\"statusLocation\")"
     ],
     "language": "python",
     "metadata": {},
     "outputs": [
      {
       "output_type": "stream",
       "stream": "stdout",
       "text": [
        "http://localhost:8090/wpsoutputs/emu/pywps-afd42c3a-a7d7-11e4-9a2a-68f72837e1b4.xml\n"
       ]
      }
     ],
     "prompt_number": 3
    },
    {
     "cell_type": "markdown",
     "metadata": {},
     "source": [
      "... check the url until process is finished."
     ]
    },
    {
     "cell_type": "code",
     "collapsed": false,
     "input": [],
     "language": "python",
     "metadata": {},
     "outputs": []
    }
   ],
   "metadata": {}
  }
 ]
}