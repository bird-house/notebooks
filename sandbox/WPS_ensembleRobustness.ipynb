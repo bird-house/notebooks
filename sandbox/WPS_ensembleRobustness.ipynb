{
 "cells": [
  {
   "cell_type": "code",
   "execution_count": 1,
   "metadata": {
    "collapsed": true
   },
   "outputs": [],
   "source": [
    "\"\"\"Python WPS execute\"\"\"\n",
    "from owslib.wps import WebProcessingService, monitorExecution\n",
    "from os import system"
   ]
  },
  {
   "cell_type": "code",
   "execution_count": 2,
   "metadata": {
    "collapsed": false
   },
   "outputs": [
    {
     "data": {
      "text/plain": [
       "'0.11-dev'"
      ]
     },
     "execution_count": 2,
     "metadata": {},
     "output_type": "execute_result"
    }
   ],
   "source": [
    "import owslib\n",
    "owslib.__version__ # version must be >=0.10.3"
   ]
  },
  {
   "cell_type": "code",
   "execution_count": 3,
   "metadata": {
    "collapsed": false
   },
   "outputs": [],
   "source": [
    "#wps = WebProcessingService(url=\"http://birdhouse-lsce.extra.cea.fr:8093/wps\", verbose=False)\n",
    "wps = WebProcessingService(url=\"http://localhost:8093/wps\", verbose=False)"
   ]
  },
  {
   "cell_type": "code",
   "execution_count": 4,
   "metadata": {
    "collapsed": false
   },
   "outputs": [
    {
     "name": "stdout",
     "output_type": "stream",
     "text": [
      "Flyingpigeon\n"
     ]
    }
   ],
   "source": [
    "print wps.identification.title"
   ]
  },
  {
   "cell_type": "code",
   "execution_count": 5,
   "metadata": {
    "collapsed": false
   },
   "outputs": [
    {
     "name": "stdout",
     "output_type": "stream",
     "text": [
      "subset_continents : \t Returns only the selected polygon for each input dataset\n",
      "subset_countries : \t Returns only the selected polygon for each input dataset\n",
      "subset_regionseurope : \t Returns the selected European administrative region defined in the GADM database (v2.5) for each input dataset.\n",
      "subset_points : \t Extract Timeseries for specified coordinates from gridded datasets\n",
      "indices_simple : \t Climate indices based on one single input variable.\n",
      "indices_percentile : \t Climate indices based on one single input variable and the percentile of a reference period.\n",
      "weatherregimes_reanalyse : \t Weather Regimes based on pressure patterns, fetching selected Realayses Datasets\n",
      "weatherregimes_model : \t Weather Regimes based on pressure patterns, fetching selected Realayses Datasets\n",
      "weatherregimes_projection : \t Weather Regimes detection based on trained reference statistics\n",
      "analogs_detection : \t Search for days with analogue pressure pattern for reanalyses data sets\n",
      "analogs_model : \t Search for days with analogue pressure pattern in a climate model data set\n",
      "analogs_compare : \t Search in a dataset for days with analogue pressure pattern for a given period in a reanalyses dataset\n",
      "analogs_viewer : \t Visualisation of text output of analogue process\n",
      "segetalflora : \t Species biodiversity of segetal flora. Imput files: variable:tas , domain: EUR-11 or EUR-44\n",
      "sdm_gbifsearch : \t Species distribution model for tree species based on GBIF presence/absence data and climate indices\n",
      "sdm_csv : \t Species distribution model for tree species based on GBIF presence/absence data and climate indices\n",
      "robustness : \t Calculates the robustness as the ratio of noise to signal in an ensemle of timeseries\n",
      "plot_timeseries : \t Plots of the file means over time. Spaghetti and uncertainty plot\n",
      "fetch : \t This process downloads resources (limited to 50GB)             to the local file system of the birdhouse compute provider\n",
      "wps_c4i_simple_indice : \t Computes single input indices of temperature TG, TX, TN, TXx, TXn, TNx, TNn, SU, TR, CSU, GD4, FD, CFD, ID, HD17; of rainfall: CDD, CWD, RR, RR1, SDII, R10mm, R20mm, RX1day, RX5day; and of snowfall: SD, SD1, SD5, SD50. This processes is also available in Climate4Impact and uses ICCLIM.\n",
      "spatial_analog : \t Spatial analogs based on climate indices\n"
     ]
    }
   ],
   "source": [
    "for process in wps.processes:\n",
    "    print '%s : \\t %s' % (process.identifier, process.abstract)"
   ]
  },
  {
   "cell_type": "code",
   "execution_count": 6,
   "metadata": {
    "collapsed": true
   },
   "outputs": [],
   "source": [
    "files = []\n",
    "\n",
    "for i in range(1,16): \n",
    "    files.append('file:///home/estimr2/EUCLEIA/indices/RX5day/DJF/RX5day_DJF_HadGEM3-A-N216_historical_r1i1p%s_19600101-20131230.nc' % (i))\n",
    "    "
   ]
  },
  {
   "cell_type": "code",
   "execution_count": 7,
   "metadata": {
    "collapsed": false,
    "scrolled": true
   },
   "outputs": [
    {
     "data": {
      "text/plain": [
       "['file:///home/estimr2/EUCLEIA/indices/RX5day/DJF/RX5day_DJF_HadGEM3-A-N216_historical_r1i1p1_19600101-20131230.nc',\n",
       " 'file:///home/estimr2/EUCLEIA/indices/RX5day/DJF/RX5day_DJF_HadGEM3-A-N216_historical_r1i1p2_19600101-20131230.nc',\n",
       " 'file:///home/estimr2/EUCLEIA/indices/RX5day/DJF/RX5day_DJF_HadGEM3-A-N216_historical_r1i1p3_19600101-20131230.nc',\n",
       " 'file:///home/estimr2/EUCLEIA/indices/RX5day/DJF/RX5day_DJF_HadGEM3-A-N216_historical_r1i1p4_19600101-20131230.nc',\n",
       " 'file:///home/estimr2/EUCLEIA/indices/RX5day/DJF/RX5day_DJF_HadGEM3-A-N216_historical_r1i1p5_19600101-20131230.nc',\n",
       " 'file:///home/estimr2/EUCLEIA/indices/RX5day/DJF/RX5day_DJF_HadGEM3-A-N216_historical_r1i1p6_19600101-20131230.nc',\n",
       " 'file:///home/estimr2/EUCLEIA/indices/RX5day/DJF/RX5day_DJF_HadGEM3-A-N216_historical_r1i1p7_19600101-20131230.nc',\n",
       " 'file:///home/estimr2/EUCLEIA/indices/RX5day/DJF/RX5day_DJF_HadGEM3-A-N216_historical_r1i1p8_19600101-20131230.nc',\n",
       " 'file:///home/estimr2/EUCLEIA/indices/RX5day/DJF/RX5day_DJF_HadGEM3-A-N216_historical_r1i1p9_19600101-20131230.nc',\n",
       " 'file:///home/estimr2/EUCLEIA/indices/RX5day/DJF/RX5day_DJF_HadGEM3-A-N216_historical_r1i1p10_19600101-20131230.nc',\n",
       " 'file:///home/estimr2/EUCLEIA/indices/RX5day/DJF/RX5day_DJF_HadGEM3-A-N216_historical_r1i1p11_19600101-20131230.nc',\n",
       " 'file:///home/estimr2/EUCLEIA/indices/RX5day/DJF/RX5day_DJF_HadGEM3-A-N216_historical_r1i1p12_19600101-20131230.nc',\n",
       " 'file:///home/estimr2/EUCLEIA/indices/RX5day/DJF/RX5day_DJF_HadGEM3-A-N216_historical_r1i1p13_19600101-20131230.nc',\n",
       " 'file:///home/estimr2/EUCLEIA/indices/RX5day/DJF/RX5day_DJF_HadGEM3-A-N216_historical_r1i1p14_19600101-20131230.nc',\n",
       " 'file:///home/estimr2/EUCLEIA/indices/RX5day/DJF/RX5day_DJF_HadGEM3-A-N216_historical_r1i1p15_19600101-20131230.nc']"
      ]
     },
     "execution_count": 7,
     "metadata": {},
     "output_type": "execute_result"
    }
   ],
   "source": [
    "files"
   ]
  },
  {
   "cell_type": "code",
   "execution_count": 41,
   "metadata": {
    "collapsed": false
   },
   "outputs": [
    {
     "name": "stdout",
     "output_type": "stream",
     "text": [
      "ProcessSucceeded\n",
      "http://localhost:8090/wpsoutputs/flyingpigeon/output_graphic-9d8371b4-79a7-11e6-8845-b50b1f12a4ed.png\n",
      "http://localhost:8090/wpsoutputs/flyingpigeon/output_high-9d8371b4-79a7-11e6-8845-b50b1f12a4ed.nc\n",
      "http://localhost:8090/wpsoutputs/flyingpigeon/output_text-9d8371b4-79a7-11e6-8845-b50b1f12a4ed.txt\n",
      "http://localhost:8090/wpsoutputs/flyingpigeon/output_low-9d8371b4-79a7-11e6-8845-b50b1f12a4ed.nc\n",
      "http://localhost:8090/wpsoutputs/flyingpigeon/output_signal-9d8371b4-79a7-11e6-8845-b50b1f12a4ed.nc\n"
     ]
    }
   ],
   "source": [
    "from os.path import join\n",
    "\n",
    "execute = wps.execute(\n",
    "    identifier=\"robustness\", \n",
    "    inputs=[\n",
    "       (\"resource\",files[0]),\n",
    "       (\"resource\",files[1]),\n",
    "       (\"resource\",files[2]),\n",
    "       (\"resource\",files[3]),\n",
    "       (\"resource\",files[4]),\n",
    "       (\"resource\",files[5]),\n",
    "       (\"resource\",files[6]),\n",
    "       (\"resource\",files[7]),\n",
    "       (\"resource\",files[8]),\n",
    "       (\"resource\",files[9]),\n",
    "       (\"resource\",files[10]),\n",
    "       (\"resource\",files[11]),\n",
    "       (\"resource\",files[12]),\n",
    "       (\"resource\",files[13]),\n",
    "       (\"resource\",files[14])\n",
    "           ])\n",
    "\n",
    "monitorExecution(execute, sleepSecs=5)\n",
    "\n",
    "print execute.getStatus()\n",
    "\n",
    "for o in execute.processOutputs:\n",
    "    print o.reference"
   ]
  },
  {
   "cell_type": "code",
   "execution_count": 44,
   "metadata": {
    "collapsed": false
   },
   "outputs": [
    {
     "data": {
      "text/html": [
       "<img src=\"http://localhost:8090/wpsoutputs/flyingpigeon/output_graphic-9d8371b4-79a7-11e6-8845-b50b1f12a4ed.png\"/>"
      ],
      "text/plain": [
       "<IPython.core.display.Image object>"
      ]
     },
     "execution_count": 44,
     "metadata": {},
     "output_type": "execute_result"
    }
   ],
   "source": [
    "graphic = execute.processOutputs[0].reference\n",
    "\n",
    "from IPython.display import Image\n",
    "from IPython.core.display import HTML \n",
    "Image(url= graphic )"
   ]
  },
  {
   "cell_type": "code",
   "execution_count": null,
   "metadata": {
    "collapsed": true
   },
   "outputs": [],
   "source": []
  }
 ],
 "metadata": {
  "anaconda-cloud": {},
  "kernelspec": {
   "display_name": "Python [default]",
   "language": "python",
   "name": "python2"
  },
  "language_info": {
   "codemirror_mode": {
    "name": "ipython",
    "version": 2
   },
   "file_extension": ".py",
   "mimetype": "text/x-python",
   "name": "python",
   "nbconvert_exporter": "python",
   "pygments_lexer": "ipython2",
   "version": "2.7.12"
  }
 },
 "nbformat": 4,
 "nbformat_minor": 0
}
