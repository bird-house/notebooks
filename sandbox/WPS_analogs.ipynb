{
 "cells": [
  {
   "cell_type": "markdown",
   "metadata": {},
   "source": [
    "# WPS call for analogs detection and visualisation\n"
   ]
  },
  {
   "cell_type": "code",
   "execution_count": 10,
   "metadata": {},
   "outputs": [],
   "source": [
    "##############################\n",
    "# load the required libraries \n",
    "#############################\n",
    "\n",
    "from owslib.wps import WebProcessingService, monitorExecution, printInputOutput\n",
    "\n",
    "from os import system\n",
    "import time"
   ]
  },
  {
   "cell_type": "code",
   "execution_count": 11,
   "metadata": {},
   "outputs": [],
   "source": [
    "#################################################\n",
    "# connect to the compute provider hosting the WPS\n",
    "#################################################\n",
    "\n",
    "#wps_url = \"http://birdhouse-lsce.extra.cea.fr:8093/wps\"\n",
    "wps_url = \"http://localhost:8093/wps\"\n",
    "wps = WebProcessingService(url=wps_url, verbose=False)"
   ]
  },
  {
   "cell_type": "code",
   "execution_count": 6,
   "metadata": {},
   "outputs": [],
   "source": [
    "##########################################\n",
    "# print some information about the service\n",
    "##########################################\n",
    "\n",
    "print wps.identification.title + ':'\n",
    "print '#############'\n",
    "for process in wps.processes:\n",
    "    print '%s : \\t %s' % (process.identifier, process.abstract)"
   ]
  },
  {
   "cell_type": "code",
   "execution_count": 5,
   "metadata": {},
   "outputs": [],
   "source": [
    "#################################################\n",
    "# print some information about a specific process\n",
    "#################################################\n",
    "\n",
    "# to recieve informations uncomment the follwing lines\n",
    "\n",
    "#p = wps.describeprocess(identifier='analogs_detection')\n",
    "#for input in p.dataInputs:\n",
    "#    printInputOutput(input)\n",
    "#    print '\\n'"
   ]
  },
  {
   "cell_type": "markdown",
   "metadata": {},
   "source": [
    "There are different ways to call a WPS service. The following cells are examples of the same process execution with different execution settings."
   ]
  },
  {
   "cell_type": "code",
   "execution_count": 4,
   "metadata": {},
   "outputs": [],
   "source": [
    "# get information about the call command:\n",
    "wps.execute?"
   ]
  },
  {
   "cell_type": "code",
   "execution_count": 12,
   "metadata": {},
   "outputs": [
    {
     "name": "stdout",
     "output_type": "stream",
     "text": [
      "59.6677098274 seconds\n",
      "ProcessSucceeded\n",
      "http://localhost:8090/wpsoutputs/flyingpigeon/fd00ecb6-e4b3-11e7-ba24-d89ef3118394/seasoncyc_sim.nc\n",
      "http://localhost:8090/wpsoutputs/flyingpigeon/fd00ecb6-e4b3-11e7-ba24-d89ef3118394/seasoncyc_base.nc\n",
      "http://localhost:8090/wpsoutputs/flyingpigeon/fd00ecb6-e4b3-11e7-ba24-d89ef3118394/sim_slp_2013-07-15_2013-07-20_-20.0_40.0_30.0_70.0.nc\n",
      "http://localhost:8090/wpsoutputs/flyingpigeon/fd00ecb6-e4b3-11e7-ba24-d89ef3118394/base_slp_1970-01-01_2012-12-31_-20.0_40.0_30.0_70.0.nc\n",
      "http://localhost:8090/wpsoutputs/flyingpigeon/fd00ecb6-e4b3-11e7-ba24-d89ef3118394/analogviewer.html\n",
      "http://localhost:8090/wpsoutputs/flyingpigeon/fd00ecb6-e4b3-11e7-ba24-d89ef3118394/config.txt\n",
      "http://localhost:8090/wpsoutputs/flyingpigeon/fd00ecb6-e4b3-11e7-ba24-d89ef3118394/output.txt\n",
      "http://localhost:8090/wpsoutputs/flyingpigeon/fd00ecb6-e4b3-11e7-ba24-d89ef3118394/tmpURKDyk.pdf\n",
      "http://localhost:8090/wpsoutputs/flyingpigeon/fd00ecb6-e4b3-11e7-ba24-d89ef3118394/log.txt\n",
      "http://localhost:8090/wpsoutputs/flyingpigeon/fd00ecb6-e4b3-11e7-ba24-d89ef3118394/modified-analogfile.tsv\n"
     ]
    }
   ],
   "source": [
    "#####################\n",
    "# execute the process\n",
    "#####################\n",
    "\n",
    "# call asyncon with sleepSecs\n",
    "\n",
    "start_time = time.time()\n",
    "\n",
    "execute = wps.execute(\n",
    "    identifier=\"analogs_reanalyse\", \n",
    "    inputs=[(\"dist\",'euclidean')], async=True)\n",
    "\n",
    "monitorExecution(execute, sleepSecs=1)\n",
    "\n",
    "print time.time() - start_time, \"seconds\"\n",
    "\n",
    "print execute.getStatus()\n",
    "\n",
    "for o in execute.processOutputs:\n",
    "    print o.reference"
   ]
  },
  {
   "cell_type": "code",
   "execution_count": 7,
   "metadata": {},
   "outputs": [
    {
     "name": "stdout",
     "output_type": "stream",
     "text": [
      "22.6755769253 seconds\n",
      "ProcessSucceeded\n",
      "http://birdhouse-lsce.extra.cea.fr:8090/wpsoutputs/flyingpigeon/analogs-9c3590b6-4cdf-11e6-b6cb-03216ea57d1a.txt\n",
      "http://birdhouse-lsce.extra.cea.fr:8090/wpsoutputs/flyingpigeon/config-9c3590b6-4cdf-11e6-b6cb-03216ea57d1a.txt\n"
     ]
    }
   ],
   "source": [
    "#####################\n",
    "# execute the process\n",
    "#####################\n",
    "\n",
    "# call syncron\n",
    "\n",
    "start_time = time.time()\n",
    "\n",
    "execute = wps.execute(\n",
    "    identifier=\"analogs_detection\", \n",
    "    inputs=[(\"dist\",'euclidean')], async=False)\n",
    "\n",
    "print time.time() - start_time, \"seconds\"\n",
    "\n",
    "print execute.getStatus()\n",
    "\n",
    "for o in execute.processOutputs:\n",
    "    print o.reference"
   ]
  },
  {
   "cell_type": "code",
   "execution_count": 8,
   "metadata": {},
   "outputs": [
    {
     "name": "stdout",
     "output_type": "stream",
     "text": [
      "123.897141933 seconds\n",
      "ProcessSucceeded\n",
      "http://birdhouse-lsce.extra.cea.fr:8090/wpsoutputs/flyingpigeon/analogs-a9bb27d2-4cdf-11e6-b6cb-03216ea57d1a.txt\n",
      "http://birdhouse-lsce.extra.cea.fr:8090/wpsoutputs/flyingpigeon/config-a9bb27d2-4cdf-11e6-b6cb-03216ea57d1a.txt\n"
     ]
    }
   ],
   "source": [
    "# case 1, async\n",
    "\n",
    "inputs=[(\"dateSt\",'2013-01-01'),(\"dateEn\",'2014-12-31'),(\"refSt\",'1990-01-01'),(\"refEn\",'1995-12-31')]\n",
    "start_time = time.time()\n",
    "\n",
    "execute = wps.execute(identifier=\"analogs_detection\", inputs=inputs, async=True)\n",
    "\n",
    "monitorExecution(execute, sleepSecs=1)\n",
    "\n",
    "print time.time() - start_time, \"seconds\"\n",
    "\n",
    "print execute.getStatus()\n",
    "\n",
    "for o in execute.processOutputs:\n",
    "    print o.reference"
   ]
  },
  {
   "cell_type": "code",
   "execution_count": null,
   "metadata": {
    "collapsed": true
   },
   "outputs": [],
   "source": []
  },
  {
   "cell_type": "markdown",
   "metadata": {},
   "source": [
    "# Analogs Viewer\n",
    "\n",
    "Another process called 'analogs_viewer' creates interactive charts using dc.js, output as an HTML file, to visualize the analogs_detection output."
   ]
  },
  {
   "cell_type": "code",
   "execution_count": 12,
   "metadata": {},
   "outputs": [
    {
     "name": "stdout",
     "output_type": "stream",
     "text": [
      "http://birdhouse-lsce.extra.cea.fr:8090/wpsoutputs/flyingpigeon/analogs-a9bb27d2-4cdf-11e6-b6cb-03216ea57d1a.txt\n"
     ]
    }
   ],
   "source": [
    "# the output of the previous analogs_detection process\n",
    "\n",
    "analogs_output = execute.processOutputs[0].reference\n",
    "print analogs_output"
   ]
  },
  {
   "cell_type": "code",
   "execution_count": 10,
   "metadata": {},
   "outputs": [
    {
     "name": "stdout",
     "output_type": "stream",
     "text": [
      " identifier=resource, title=Analogues, abstract=Analogues text file, data type=ComplexData\n",
      " Supported Value: mimeType=text/plain, encoding=None, schema=None\n",
      " Default Value: mimeType=text/plain, encoding=None, schema=None \n",
      " minOccurs=1, maxOccurs=1\n",
      "\n",
      "\n"
     ]
    }
   ],
   "source": [
    "##########################################\n",
    "# print some information about the process\n",
    "##########################################\n",
    "\n",
    "p = wps.describeprocess(identifier='analogs_viewer')\n",
    "for input in p.dataInputs:\n",
    "    printInputOutput(input)\n",
    "    print '\\n'"
   ]
  },
  {
   "cell_type": "code",
   "execution_count": 13,
   "metadata": {},
   "outputs": [
    {
     "name": "stdout",
     "output_type": "stream",
     "text": [
      "ProcessSucceeded\n",
      "http://birdhouse-lsce.extra.cea.fr:8090/wpsoutputs/flyingpigeon/output_html-daf0f66e-4ce0-11e6-b6cb-03216ea57d1a.html\n",
      "None\n"
     ]
    }
   ],
   "source": [
    "###########################################\n",
    "# and execute the process for visualisation \n",
    "###########################################\n",
    "\n",
    "viewer = wps.execute(identifier=\"analogs_viewer\", \n",
    "                     inputs=[('resource', analogs_output)], \n",
    "                     async=False)\n",
    "\n",
    "print viewer.getStatus()\n",
    "for o in viewer.processOutputs:\n",
    "    print o.reference"
   ]
  },
  {
   "cell_type": "code",
   "execution_count": null,
   "metadata": {
    "collapsed": true
   },
   "outputs": [],
   "source": []
  }
 ],
 "metadata": {
  "kernelspec": {
   "display_name": "Python 2",
   "language": "python",
   "name": "python2"
  },
  "language_info": {
   "codemirror_mode": {
    "name": "ipython",
    "version": 2
   },
   "file_extension": ".py",
   "mimetype": "text/x-python",
   "name": "python",
   "nbconvert_exporter": "python",
   "pygments_lexer": "ipython2",
   "version": "2.7.11"
  }
 },
 "nbformat": 4,
 "nbformat_minor": 1
}
