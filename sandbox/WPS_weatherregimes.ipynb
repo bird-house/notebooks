{
 "cells": [
  {
   "cell_type": "markdown",
   "metadata": {},
   "source": [
    "#  WPS call Weather Regimes\n",
    "\n",
    "The weather regimes process is divided into two parts. Based on a reference dataset (reanalyses or any kind of model dataset), the weather regimes are clustered and appropriate statisics calculated. Two processes can be used for the reference training (weatherregimes_reanalyse with a list of pre-defined reanalyses datasets, or weatherregimes_model for any suitable dataset of your choice).\n",
    "The output of this first part is the forcing data for the second part. With the process weatherregimes_projection, the trained statistic can be projected onto a dataset with appropriate variables (pressure data)."
   ]
  },
  {
   "cell_type": "code",
   "execution_count": 1,
   "metadata": {
    "collapsed": true
   },
   "outputs": [],
   "source": [
    "##############################\n",
    "# load the required libraries \n",
    "#############################\n",
    "\n",
    "from owslib.wps import WebProcessingService, monitorExecution, printInputOutput"
   ]
  },
  {
   "cell_type": "code",
   "execution_count": 2,
   "metadata": {
    "collapsed": false
   },
   "outputs": [],
   "source": [
    "#################################################\n",
    "# connect to the compute provider hosting the WPS\n",
    "#################################################\n",
    "\n",
    "wps_url = \"http://birdhouse-lsce.extra.cea.fr:8093/wps\"\n",
    "# wps_url = \"http://localhost:8093/wps\"\n",
    "wps = WebProcessingService(url=wps_url, verbose=False)"
   ]
  },
  {
   "cell_type": "code",
   "execution_count": 3,
   "metadata": {
    "collapsed": false
   },
   "outputs": [
    {
     "name": "stdout",
     "output_type": "stream",
     "text": [
      "Flyingpigeon\n",
      "subset_continents : \t Returns only the selected polygon for each input dataset\n",
      "subset_countries : \t Returns only the selected polygon for each input dataset\n",
      "subset_regionseurope : \t Returns only the selected polygon for each input dataset\n",
      "subset_points : \t Extract Timeseries for specified coordinates from gridded datasets\n",
      "indices_simple : \t Climate indices based on one single input variable.\n",
      "indices_percentile : \t Climate indices based on one single input variable and the percentile of a reference period.\n",
      "weatherregimes_reanalyse : \t Weather regimes based on pressure patterns, fetching selected reanlysis datasets\n",
      "weatherregimes_model : \t Weather regimes based on pressure patterns, fetching selected realayses datasets\n",
      "weatherregimes_projection : \t Weather Regimes detection based on trained reference statistics\n",
      "analogs_detection : \t Search for days with analog pressure pattern\n",
      "analogs_viewer : \t Visualisation of text output of analog process\n",
      "segetalflora : \t Species biodiversity of segetal flora. Imput files: variable:tas , domain: EUR-11 or EUR-44\n",
      "sdm_gbifsearch : \t Species distribution model for tree species based on GBIF presence/absence data and climate indices\n",
      "sdm_csv : \t Species distribution model for tree species based on GBIF presence/absence data and climate indices\n",
      "plot_timeseries : \t Plots of the file means over time. Spaghetti and uncertainty plot\n",
      "fetch : \t This process downloads resources (limited to 50GB) to the local file system of the birdhouse compute provider\n",
      "wps_c4i_simple_indice : \t Computes single input indices of temperature TG, TX, TN, TXx, TXn, TNx, TNn, SU, TR, CSU, GD4, FD, CFD, ID, HD17; of rainfal: CDD, CWD, RR, RR1, SDII, R10mm, R20mm, RX1day, RX5day; and of snowfall: SD, SD1, SD5, SD50. This process is also available in Climate4Impact and uses ICCLIM.\n"
     ]
    }
   ],
   "source": [
    "##########################################\n",
    "# print some information about the service\n",
    "##########################################\n",
    "\n",
    "print wps.identification.title\n",
    "for process in wps.processes:\n",
    "    print '%s : \\t %s' % (process.identifier, process.abstract)"
   ]
  },
  {
   "cell_type": "code",
   "execution_count": 4,
   "metadata": {
    "collapsed": false
   },
   "outputs": [],
   "source": [
    "#################################################\n",
    "# print some information about a specific process\n",
    "#################################################\n",
    "\n",
    "# To recieve information, uncomment the follwing lines\n",
    "\n",
    "#p = wps.describeprocess(identifier='weatherregimes_reanalyse')\n",
    "#for input in p.dataInputs:\n",
    "#  printInputOutput(input)\n",
    "#  print '\\n'"
   ]
  },
  {
   "cell_type": "code",
   "execution_count": 5,
   "metadata": {
    "collapsed": false
   },
   "outputs": [],
   "source": [
    "#####################\n",
    "# execute the process\n",
    "#####################\n",
    "\n",
    "training = wps.execute(\n",
    "    identifier=\"weatherregimes_reanalyse\", \n",
    "    inputs=[ \n",
    "        ('season', 'DJF'),         ### uncomment the cell above \n",
    "        ('BBox','-80,22.5,50,70')  ### for more optional arguments\n",
    "           ],\n",
    "    async=True) "
   ]
  },
  {
   "cell_type": "code",
   "execution_count": 6,
   "metadata": {
    "collapsed": false
   },
   "outputs": [
    {
     "name": "stdout",
     "output_type": "stream",
     "text": [
      "ProcessSucceeded\n",
      "http://birdhouse-lsce.extra.cea.fr:8090/wpsoutputs/flyingpigeon/output_pca-2a701798-4ce0-11e6-b6cb-03216ea57d1a.dat\n",
      "http://birdhouse-lsce.extra.cea.fr:8090/wpsoutputs/flyingpigeon/Routput_graphic-2a701798-4ce0-11e6-b6cb-03216ea57d1a.pdf\n",
      "http://birdhouse-lsce.extra.cea.fr:8090/wpsoutputs/flyingpigeon/output_classification-2a701798-4ce0-11e6-b6cb-03216ea57d1a.Rdat\n",
      "http://birdhouse-lsce.extra.cea.fr:8090/wpsoutputs/flyingpigeon/output_netcdf-2a701798-4ce0-11e6-b6cb-03216ea57d1a.nc\n"
     ]
    }
   ],
   "source": [
    "##########################################################################\n",
    "# the appropriate information is printed out here if the job is finished \n",
    "##########################################################################\n",
    "\n",
    "monitorExecution(training, sleepSecs=5)\n",
    "print training.getStatus()\n",
    "\n",
    "for o in training.processOutputs:\n",
    "    print o.reference"
   ]
  },
  {
   "cell_type": "code",
   "execution_count": 7,
   "metadata": {
    "collapsed": false
   },
   "outputs": [],
   "source": [
    "###############################################################\n",
    "# Next step is to perform a projection with the trained output\n",
    "###############################################################\n",
    "\n",
    "\n",
    "### uncomment these lines for information:\n",
    "\n",
    "# p = wps.describeprocess(identifier='weatherregimes_projection')\n",
    "# for input in p.dataInputs:\n",
    "#     printInputOutput(input)"
   ]
  },
  {
   "cell_type": "code",
   "execution_count": 8,
   "metadata": {
    "collapsed": false
   },
   "outputs": [],
   "source": [
    "#################################\n",
    "# Link \n",
    "#################################\n",
    "from os import listdir, getenv\n",
    "\n",
    "HOME = getenv('HOME')"
   ]
  },
  {
   "cell_type": "code",
   "execution_count": 13,
   "metadata": {
    "collapsed": false
   },
   "outputs": [
    {
     "data": {
      "text/plain": [
       "['file:///home/estimr2/birdhouse/birdhouse/var/lib/pywps/cache/malleefowl/esgf1.dkrz.de/thredds/fileServer/cmip5/cmip5/output1/MPI-M/MPI-ESM-LR/historical/day/atmos/day/r1i1p1/v20111006/psl/psl_day_MPI-ESM-LR_historical_r1i1p1_19800101-19891231.nc',\n",
       " 'file:///home/estimr2/birdhouse/birdhouse/var/lib/pywps/cache/malleefowl/esgf1.dkrz.de/thredds/fileServer/cmip5/cmip5/output1/MPI-M/MPI-ESM-LR/historical/day/atmos/day/r1i1p1/v20111006/psl/psl_day_MPI-ESM-LR_historical_r1i1p1_19600101-19691231.nc',\n",
       " 'file:///home/estimr2/birdhouse/birdhouse/var/lib/pywps/cache/malleefowl/esgf1.dkrz.de/thredds/fileServer/cmip5/cmip5/output1/MPI-M/MPI-ESM-LR/historical/day/atmos/day/r1i1p1/v20111006/psl/psl_day_MPI-ESM-LR_historical_r1i1p1_20000101-20051231.nc',\n",
       " 'file:///home/estimr2/birdhouse/birdhouse/var/lib/pywps/cache/malleefowl/esgf1.dkrz.de/thredds/fileServer/cmip5/cmip5/output1/MPI-M/MPI-ESM-LR/historical/day/atmos/day/r1i1p1/v20111006/psl/psl_day_MPI-ESM-LR_historical_r1i1p1_19700101-19791231.nc',\n",
       " 'file:///home/estimr2/birdhouse/birdhouse/var/lib/pywps/cache/malleefowl/esgf1.dkrz.de/thredds/fileServer/cmip5/cmip5/output1/MPI-M/MPI-ESM-LR/historical/day/atmos/day/r1i1p1/v20111006/psl/psl_day_MPI-ESM-LR_historical_r1i1p1_19900101-19991231.nc']"
      ]
     },
     "execution_count": 13,
     "metadata": {},
     "output_type": "execute_result"
    }
   ],
   "source": [
    "path = '/home/estimr2/birdhouse/birdhouse/var/lib/pywps/cache/malleefowl/esgf1.dkrz.de/thredds/fileServer/cmip5/cmip5/output1/MPI-M/MPI-ESM-LR/historical/day/atmos/day/r1i1p1/v20111006/psl/'\n",
    "\n",
    "# can be a web url (http:// ...) as well\n",
    "files = ['file://' + path + f for f in listdir(path)]\n",
    "files"
   ]
  },
  {
   "cell_type": "code",
   "execution_count": 14,
   "metadata": {
    "collapsed": false
   },
   "outputs": [],
   "source": [
    "########################################\n",
    "# and execute the process for projection\n",
    "########################################\n",
    "\n",
    "projection = wps.execute(\n",
    "    identifier=\"weatherregimes_projection\",\n",
    "    inputs=[\n",
    "       (\"resource\",files[0]),\n",
    "       (\"resource\",files[1]),\n",
    "       (\"resource\",files[2]),\n",
    "       (\"resource\",files[3]),\n",
    "       (\"resource\",files[4]),\n",
    "       (\"season\",'DJF'),\n",
    "       (\"period\", \"19900101-20001231\"),\n",
    "       (\"anualcycle\", \"19950101-19991231\"),\n",
    "       (\"dat\", training.processOutputs[0].reference),   #  this are the output urls of the reference training\n",
    "       (\"Rdat\", training.processOutputs[2].reference),  #\n",
    "       (\"netCDF\",training.processOutputs[3].reference)  # the reference data are used here for regridding and bbox\n",
    "           ],\n",
    "    async=True)"
   ]
  },
  {
   "cell_type": "code",
   "execution_count": 15,
   "metadata": {
    "collapsed": false
   },
   "outputs": [
    {
     "name": "stdout",
     "output_type": "stream",
     "text": [
      "ProcessSucceeded\n",
      "http://birdhouse-lsce.extra.cea.fr:8090/wpsoutputs/flyingpigeon/output_pca-61b7d266-4ce2-11e6-b6cb-03216ea57d1a.dat\n",
      "http://birdhouse-lsce.extra.cea.fr:8090/wpsoutputs/flyingpigeon/Routput_graphic-61b7d266-4ce2-11e6-b6cb-03216ea57d1a.pdf\n",
      "http://birdhouse-lsce.extra.cea.fr:8090/wpsoutputs/flyingpigeon/output_classification-61b7d266-4ce2-11e6-b6cb-03216ea57d1a.Rdat\n",
      "http://birdhouse-lsce.extra.cea.fr:8090/wpsoutputs/flyingpigeon/output_netcdf-61b7d266-4ce2-11e6-b6cb-03216ea57d1a.nc\n"
     ]
    }
   ],
   "source": [
    "monitorExecution(projection, sleepSecs=5)\n",
    "print projection.getStatus()\n",
    "\n",
    "for o in projection.processOutputs:\n",
    "    print o.reference"
   ]
  },
  {
   "cell_type": "code",
   "execution_count": 12,
   "metadata": {
    "collapsed": true
   },
   "outputs": [],
   "source": [
    "# Voila :-) "
   ]
  }
 ],
 "metadata": {
  "kernelspec": {
   "display_name": "Python 2",
   "language": "python",
   "name": "python2"
  },
  "language_info": {
   "codemirror_mode": {
    "name": "ipython",
    "version": 2
   },
   "file_extension": ".py",
   "mimetype": "text/x-python",
   "name": "python",
   "nbconvert_exporter": "python",
   "pygments_lexer": "ipython2",
   "version": "2.7.12"
  }
 },
 "nbformat": 4,
 "nbformat_minor": 0
}