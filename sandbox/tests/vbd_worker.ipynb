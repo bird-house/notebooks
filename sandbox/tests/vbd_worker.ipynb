{
 "metadata": {
  "name": "",
  "signature": "sha256:3bfe4023bad2fc918b5d3393bc4ffe8a8edb8aa0af4cf0345cb53fd393885c35"
 },
 "nbformat": 3,
 "nbformat_minor": 0,
 "worksheets": [
  {
   "cells": [
    {
     "cell_type": "code",
     "collapsed": false,
     "input": [
      "from owslib.wps import WebProcessingService, monitorExecution\n",
      "wps = WebProcessingService(url='http://localhost:8090/wps') \n",
      "identifier = 'de.csc.vbd.worker'"
     ],
     "language": "python",
     "metadata": {},
     "outputs": [],
     "prompt_number": 1
    },
    {
     "cell_type": "code",
     "collapsed": false,
     "input": [
      "token = 'KQAmPTcYQHuCWB2IzilrXA'"
     ],
     "language": "python",
     "metadata": {},
     "outputs": [],
     "prompt_number": 2
    },
    {
     "cell_type": "code",
     "collapsed": false,
     "input": [
      "tas_url = 'http://localhost:8090/thredds/fileServer/test/nils.hempelmann@hzg.de/tas_AFR-44_MPI-M-MPI-ESM-LR_historical_r1i1p1_SMHI-RCA4_v1_day_20010101-20051231.nc'\n",
      "pr_url = 'http://localhost:8090/thredds/fileServer/test/nils.hempelmann@hzg.de/pr_AFR-44_MPI-M-MPI-ESM-LR_historical_r1i1p1_SMHI-RCA4_v1_day_20010101-20051231.nc'\n",
      "ps_url = 'http://localhost:8090/thredds/fileServer/test/nils.hempelmann@hzg.de/ps_AFR-44_MPI-M-MPI-ESM-LR_historical_r1i1p1_SMHI-RCA4_v1_day_20010101-20051231.nc'\n",
      "huss_url = 'http://localhost:8090/thredds/fileServer/test/nils.hempelmann@hzg.de/huss_AFR-44_MPI-M-MPI-ESM-LR_historical_r1i1p1_SMHI-RCA4_v1_day_20010101-20051231.nc'\n",
      "evspsblpot_url = 'http://localhost:8090/thredds/fileServer/test/nils.hempelmann@hzg.de/evspsblpot_AFR-44_MPI-M-MPI-ESM-LR_historical_r1i1p1_SMHI-RCA4_v1_day_20010101-20051231.nc'\n"
     ],
     "language": "python",
     "metadata": {},
     "outputs": [],
     "prompt_number": 3
    },
    {
     "cell_type": "code",
     "collapsed": false,
     "input": [
      "datainputs = []\n",
      "datainputs.append(('tommymodel','True'))\n",
      "datainputs.append(('token',token))\n",
      "datainputs.append(('file_identifier',tas_url))\n",
      "datainputs.append(('file_identifier',pr_url))\n",
      "datainputs.append(('file_identifier',ps_url))\n",
      "datainputs.append(('file_identifier',huss_url))\n",
      "datainputs.append(('file_identifier',evspsblpot_url))"
     ],
     "language": "python",
     "metadata": {},
     "outputs": [],
     "prompt_number": 6
    },
    {
     "cell_type": "code",
     "collapsed": false,
     "input": [
      "execute = wps.execute(identifier=identifier, inputs=datainputs, output=[('output', True)])\n",
      "\n",
      "monitorExecution(execute)\n",
      "o = execute.processOutputs[0]\n",
      "print o.reference"
     ],
     "language": "python",
     "metadata": {},
     "outputs": [
      {
       "output_type": "stream",
       "stream": "stdout",
       "text": [
        "Executing WPS request...\n",
        "Execution status=ProcessAccepted"
       ]
      },
      {
       "output_type": "stream",
       "stream": "stdout",
       "text": [
        "\n",
        "Percent completed=0\n",
        "Status message=Process de.csc.vbd.worker accepted\n",
        "\n",
        "Checking execution status... (location=http://localhost:8091/wpsoutputs/pywps-ef3e00a6-d60b-11e3-b2e2-d4bed959f031.xml)\n",
        "Execution status=ProcessAccepted\n",
        "Percent completed=0\n",
        "Status message=Process de.csc.vbd.worker accepted\n",
        "Sleeping 3 seconds...\n",
        "Execution status: ProcessAccepted"
       ]
      },
      {
       "output_type": "stream",
       "stream": "stdout",
       "text": [
        "\n",
        "\n",
        "Checking execution status... (location=http://localhost:8091/wpsoutputs/pywps-ef3e00a6-d60b-11e3-b2e2-d4bed959f031.xml)\n",
        "Execution status=ProcessPaused\n",
        "Percent completed=0\n",
        "Status message=Getting input file_identifier of process de.csc.vbd.worker\n",
        "Sleeping 3 seconds...\n",
        "Execution status: ProcessPaused"
       ]
      },
      {
       "output_type": "stream",
       "stream": "stdout",
       "text": [
        "\n",
        "\n",
        "Checking execution status... (location=http://localhost:8091/wpsoutputs/pywps-ef3e00a6-d60b-11e3-b2e2-d4bed959f031.xml)\n",
        "Execution status=ProcessPaused\n",
        "Percent completed=0\n",
        "Status message=Getting input file_identifier of process de.csc.vbd.worker\n",
        "Sleeping 3 seconds...\n",
        "Execution status: ProcessPaused"
       ]
      },
      {
       "output_type": "stream",
       "stream": "stdout",
       "text": [
        "\n",
        "\n",
        "Checking execution status... (location=http://localhost:8091/wpsoutputs/pywps-ef3e00a6-d60b-11e3-b2e2-d4bed959f031.xml)\n",
        "Execution status=ProcessStarted\n",
        "Percent completed=12\n",
        "Status message=processstarted got ShapeCabinet selected ugid : [1] ...\n",
        "Sleeping 3 seconds...\n",
        "Execution status: ProcessStarted"
       ]
      },
      {
       "output_type": "stream",
       "stream": "stdout",
       "text": [
        "\n",
        "\n",
        "Checking execution status... (location=http://localhost:8091/wpsoutputs/pywps-ef3e00a6-d60b-11e3-b2e2-d4bed959f031.xml)\n",
        "Execution status=ProcessFailed\n",
        "Percent completed=12\n",
        "Status message=\n",
        "            \n",
        " owslib.wps.WPSException : {'locator': 'None', 'code': 'NoApplicableCode', 'text': 'Failed\\\\ to\\\\ execute\\\\ WPS\\\\ process\\\\ \\\\[de\\\\.csc\\\\.vbd\\\\.worker\\\\]\\\\:\\\\ expected\\\\ string\\\\ or\\\\ Unicode\\\\ object\\\\,\\\\ NoneType\\\\ found'}\n",
        "Execution status: ProcessFailed\n",
        "Error: code=NoApplicableCode, locator=None, text=Failed\\ to\\ execute\\ WPS\\ process\\ \\[de\\.csc\\.vbd\\.worker\\]\\:\\ expected\\ string\\ or\\ Unicode\\ object\\,\\ NoneType\\ found\n"
       ]
      },
      {
       "ename": "IndexError",
       "evalue": "list index out of range",
       "output_type": "pyerr",
       "traceback": [
        "\u001b[1;31m---------------------------------------------------------------------------\u001b[0m\n\u001b[1;31mIndexError\u001b[0m                                Traceback (most recent call last)",
        "\u001b[1;32m<ipython-input-13-62807887181a>\u001b[0m in \u001b[0;36m<module>\u001b[1;34m()\u001b[0m\n\u001b[0;32m      2\u001b[0m \u001b[1;33m\u001b[0m\u001b[0m\n\u001b[0;32m      3\u001b[0m \u001b[0mmonitorExecution\u001b[0m\u001b[1;33m(\u001b[0m\u001b[0mexecute\u001b[0m\u001b[1;33m)\u001b[0m\u001b[1;33m\u001b[0m\u001b[0m\n\u001b[1;32m----> 4\u001b[1;33m \u001b[0mo\u001b[0m \u001b[1;33m=\u001b[0m \u001b[0mexecute\u001b[0m\u001b[1;33m.\u001b[0m\u001b[0mprocessOutputs\u001b[0m\u001b[1;33m[\u001b[0m\u001b[1;36m0\u001b[0m\u001b[1;33m]\u001b[0m\u001b[1;33m\u001b[0m\u001b[0m\n\u001b[0m\u001b[0;32m      5\u001b[0m \u001b[1;32mprint\u001b[0m \u001b[0mo\u001b[0m\u001b[1;33m.\u001b[0m\u001b[0mreference\u001b[0m\u001b[1;33m\u001b[0m\u001b[0m\n",
        "\u001b[1;31mIndexError\u001b[0m: list index out of range"
       ]
      }
     ],
     "prompt_number": 13
    },
    {
     "cell_type": "code",
     "collapsed": false,
     "input": [
      "from ocgis.util.shp_process import ShpProcess\n",
      "from ocgis.util.shp_cabinet import ShpCabinetIterator\n",
      "import ocgis\n"
     ],
     "language": "python",
     "metadata": {},
     "outputs": [
      {
       "ename": "ImportError",
       "evalue": "No module named ocgis.util.shp_process",
       "output_type": "pyerr",
       "traceback": [
        "\u001b[1;31m---------------------------------------------------------------------------\u001b[0m\n\u001b[1;31mImportError\u001b[0m                               Traceback (most recent call last)",
        "\u001b[1;32m<ipython-input-9-70ca766a4f3d>\u001b[0m in \u001b[0;36m<module>\u001b[1;34m()\u001b[0m\n\u001b[1;32m----> 1\u001b[1;33m \u001b[1;32mfrom\u001b[0m \u001b[0mocgis\u001b[0m\u001b[1;33m.\u001b[0m\u001b[0mutil\u001b[0m\u001b[1;33m.\u001b[0m\u001b[0mshp_process\u001b[0m \u001b[1;32mimport\u001b[0m \u001b[0mShpProcess\u001b[0m\u001b[1;33m\u001b[0m\u001b[0m\n\u001b[0m\u001b[0;32m      2\u001b[0m \u001b[1;32mfrom\u001b[0m \u001b[0mocgis\u001b[0m\u001b[1;33m.\u001b[0m\u001b[0mutil\u001b[0m\u001b[1;33m.\u001b[0m\u001b[0mshp_cabinet\u001b[0m \u001b[1;32mimport\u001b[0m \u001b[0mShpCabinetIterator\u001b[0m\u001b[1;33m\u001b[0m\u001b[0m\n\u001b[0;32m      3\u001b[0m \u001b[1;32mimport\u001b[0m \u001b[0mocgis\u001b[0m\u001b[1;33m\u001b[0m\u001b[0m\n",
        "\u001b[1;31mImportError\u001b[0m: No module named ocgis.util.shp_process"
       ]
      }
     ],
     "prompt_number": 9
    },
    {
     "cell_type": "code",
     "collapsed": false,
     "input": [
      "import ocgis \n"
     ],
     "language": "python",
     "metadata": {},
     "outputs": [
      {
       "ename": "ImportError",
       "evalue": "No module named ocgis",
       "output_type": "pyerr",
       "traceback": [
        "\u001b[1;31m---------------------------------------------------------------------------\u001b[0m\n\u001b[1;31mImportError\u001b[0m                               Traceback (most recent call last)",
        "\u001b[1;32m<ipython-input-10-6397534dd188>\u001b[0m in \u001b[0;36m<module>\u001b[1;34m()\u001b[0m\n\u001b[1;32m----> 1\u001b[1;33m \u001b[1;32mimport\u001b[0m \u001b[0mocgis\u001b[0m\u001b[1;33m\u001b[0m\u001b[0m\n\u001b[0m",
        "\u001b[1;31mImportError\u001b[0m: No module named ocgis"
       ]
      }
     ],
     "prompt_number": 10
    },
    {
     "cell_type": "code",
     "collapsed": false,
     "input": [],
     "language": "python",
     "metadata": {},
     "outputs": []
    }
   ],
   "metadata": {}
  }
 ]
}