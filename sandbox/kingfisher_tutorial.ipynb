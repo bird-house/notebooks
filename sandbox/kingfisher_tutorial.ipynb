{
 "cells": [
  {
   "cell_type": "code",
   "execution_count": 1,
   "metadata": {},
   "outputs": [],
   "source": [
    "\"\"\"Python WPS execute\"\"\"\n",
    "\n",
    "from owslib.wps import WebProcessingService, monitorExecution\n",
    "from os import system\n"
   ]
  },
  {
   "cell_type": "code",
   "execution_count": 3,
   "metadata": {},
   "outputs": [
    {
     "name": "stdout",
     "output_type": "stream",
     "text": [
      "Service 'Kingfisher' is running\n"
     ]
    }
   ],
   "source": [
    "wps = WebProcessingService(url=\"http://localhost:5000/wps\", verbose=False)\n",
    "print(\"Service '{}' is running\".format(wps.identification.title))"
   ]
  },
  {
   "cell_type": "code",
   "execution_count": 4,
   "metadata": {},
   "outputs": [
    {
     "name": "stdout",
     "output_type": "stream",
     "text": [
      "hello : \t Just says a friendly Hello.Returns a literal string output with Hello plus the inputed name.\n",
      "COPERNICUS_search : \t Search for EO Data in the scihub.copernicus archiveoutput is a list of Product according to the querry and a graphical visualisation.\n",
      "COPERNICUS_fetch : \t Search for EO Data in the scihub.copernicus archiveproducts will be downloaded into the local disc system.output is a list of products and a graphical visualisation.\n"
     ]
    }
   ],
   "source": [
    "for process in wps.processes:\n",
    "    print( '{} : \\t {}'.format(process.identifier, process.abstract))"
   ]
  },
  {
   "cell_type": "code",
   "execution_count": 7,
   "metadata": {},
   "outputs": [
    {
     "name": "stdout",
     "output_type": "stream",
     "text": [
      "Enter Your username: nilshempelmann\n"
     ]
    }
   ],
   "source": [
    "username = input('Enter Your username: ')"
   ]
  },
  {
   "cell_type": "code",
   "execution_count": 5,
   "metadata": {},
   "outputs": [
    {
     "name": "stdout",
     "output_type": "stream",
     "text": [
      "Insert your password: ········\n"
     ]
    }
   ],
   "source": [
    "import getpass\n",
    "p = getpass.getpass(\"Insert your password: \")  # password input"
   ]
  },
  {
   "cell_type": "code",
   "execution_count": 8,
   "metadata": {},
   "outputs": [
    {
     "name": "stdout",
     "output_type": "stream",
     "text": [
      "ProcessSucceeded\n",
      "http://localhost:5000/outputs/e3039756-0932-11e9-bfb9-9cb6d08a53e7/tmpweicelsl.txt\n",
      "http://localhost:5000/outputs/e3039756-0932-11e9-bfb9-9cb6d08a53e7/tmprpe4i5hc.png\n"
     ]
    }
   ],
   "source": [
    "execute = wps.execute(\n",
    "    identifier=\"COPERNICUS_search\", #indices_clipping\",\n",
    "    inputs=[\n",
    "       ('username',username),\n",
    "       ('password', p)\n",
    "       ])\n",
    "\n",
    "monitorExecution(execute, sleepSecs=5)\n",
    "print(execute.getStatus())\n",
    "\n",
    "for o in execute.processOutputs:\n",
    "    print(o.reference)"
   ]
  },
  {
   "cell_type": "code",
   "execution_count": 12,
   "metadata": {},
   "outputs": [
    {
     "data": {
      "text/html": [
       "<img src=\"http://localhost:5000/outputs/e3039756-0932-11e9-bfb9-9cb6d08a53e7/tmprpe4i5hc.png\"/>"
      ],
      "text/plain": [
       "<IPython.core.display.Image object>"
      ]
     },
     "execution_count": 12,
     "metadata": {},
     "output_type": "execute_result"
    }
   ],
   "source": [
    "from IPython.display import Image\n",
    "from IPython.core.display import HTML \n",
    "Image(url= execute.processOutputs[1].reference)"
   ]
  },
  {
   "cell_type": "code",
   "execution_count": 11,
   "metadata": {},
   "outputs": [
    {
     "data": {
      "text/plain": [
       "'http://localhost:5000/outputs/e3039756-0932-11e9-bfb9-9cb6d08a53e7/tmprpe4i5hc.png'"
      ]
     },
     "execution_count": 11,
     "metadata": {},
     "output_type": "execute_result"
    }
   ],
   "source": [
    "execute.processOutputs[1].reference"
   ]
  },
  {
   "cell_type": "code",
   "execution_count": null,
   "metadata": {},
   "outputs": [],
   "source": []
  }
 ],
 "metadata": {
  "kernelspec": {
   "display_name": "Python 3",
   "language": "python",
   "name": "python3"
  },
  "language_info": {
   "codemirror_mode": {
    "name": "ipython",
    "version": 3
   },
   "file_extension": ".py",
   "mimetype": "text/x-python",
   "name": "python",
   "nbconvert_exporter": "python",
   "pygments_lexer": "ipython3",
   "version": "3.6.7"
  }
 },
 "nbformat": 4,
 "nbformat_minor": 2
}
