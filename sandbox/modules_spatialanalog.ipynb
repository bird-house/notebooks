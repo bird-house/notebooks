{
 "cells": [
  {
   "cell_type": "code",
   "execution_count": 2,
   "metadata": {
    "collapsed": false
   },
   "outputs": [],
   "source": [
    "from os import path, getenv"
   ]
  },
  {
   "cell_type": "code",
   "execution_count": 3,
   "metadata": {
    "collapsed": true
   },
   "outputs": [],
   "source": [
    "HOME = getenv('HOME')\n",
    "source_dir = HOME+'/data/tests/'\n",
    "files = ['CDD_NAM-44_ICHEC-EC-EARTH_rcp85_r3i1p1_DMI-HIRHAM5_v1_AMJJAS_20060101-20101231.nc','PRCPTOT_NAM-44_ICHEC-EC-EARTH_rcp85_r3i1p1_DMI-HIRHAM5_v1_yr_20060101-20101231.nc']\n",
    "#files = ['CDD_NAM-44_ICHEC-EC-EARTH_rcp85_r3i1p1_DMI-HIRHAM5_v1_AMJJAS_20060101-20301231.nc','PRCPTOT_NAM-44_ICHEC-EC-EARTH_rcp85_r3i1p1_DMI-HIRHAM5_v1_yr_20060101-20301231.nc']"
   ]
  },
  {
   "cell_type": "code",
   "execution_count": 4,
   "metadata": {
    "collapsed": false
   },
   "outputs": [
    {
     "data": {
      "text/plain": [
       "['/home/nils/data/tests/CDD_NAM-44_ICHEC-EC-EARTH_rcp85_r3i1p1_DMI-HIRHAM5_v1_AMJJAS_20060101-20101231.nc',\n",
       " '/home/nils/data/tests/PRCPTOT_NAM-44_ICHEC-EC-EARTH_rcp85_r3i1p1_DMI-HIRHAM5_v1_yr_20060101-20101231.nc']"
      ]
     },
     "execution_count": 4,
     "metadata": {},
     "output_type": "execute_result"
    }
   ],
   "source": [
    "resource = [path.join(source_dir, f) for f in files ]\n",
    "resource "
   ]
  },
  {
   "cell_type": "code",
   "execution_count": 5,
   "metadata": {
    "collapsed": false
   },
   "outputs": [],
   "source": [
    "from flyingpigeon import spatial_analog as sa"
   ]
  },
  {
   "cell_type": "code",
   "execution_count": 7,
   "metadata": {
    "collapsed": false
   },
   "outputs": [
    {
     "name": "stdout",
     "output_type": "stream",
     "text": [
      "file opened!\n",
      "gam plotted ;-)\n",
      "file opened!\n",
      "gam plotted ;-)\n",
      " 2 plots generated \n"
     ]
    }
   ],
   "source": [
    "reload(sa)\n",
    "coordinate= [-73.590544, 45.513130]\n",
    "gam_model , graphic = sa.get_gam(resource, coordinate)"
   ]
  },
  {
   "cell_type": "code",
   "execution_count": 15,
   "metadata": {
    "collapsed": false
   },
   "outputs": [
    {
     "data": {
      "text/plain": [
       "'/home/nils/birdhouse/flyingpigeon/notebooks/tmpLFdlNf.png'"
      ]
     },
     "execution_count": 15,
     "metadata": {},
     "output_type": "execute_result"
    }
   ],
   "source": [
    "graphic"
   ]
  },
  {
   "cell_type": "code",
   "execution_count": 29,
   "metadata": {
    "collapsed": false
   },
   "outputs": [
    {
     "data": {
      "text/plain": [
       "'./21d765d2-75da-11e6-97c4-975acfa35e9a.nc'"
      ]
     },
     "execution_count": 29,
     "metadata": {},
     "output_type": "execute_result"
    }
   ],
   "source": [
    "point = Point(float(coordinate[0]), float(coordinate[1]))\n",
    "call(resource=resource[1], geom=point, select_nearest=True)"
   ]
  },
  {
   "cell_type": "code",
   "execution_count": 7,
   "metadata": {
    "collapsed": false
   },
   "outputs": [],
   "source": [
    "from flyingpigeon import utils \n"
   ]
  },
  {
   "cell_type": "code",
   "execution_count": 8,
   "metadata": {
    "collapsed": false
   },
   "outputs": [
    {
     "ename": "IOError",
     "evalue": "master dataset ./0584e510-75dc-11e6-bfd7-f54d5ee1259e.nc does not have a aggregation dimension",
     "output_type": "error",
     "traceback": [
      "\u001b[1;31m---------------------------------------------------------------------------\u001b[0m",
      "\u001b[1;31mIOError\u001b[0m                                   Traceback (most recent call last)",
      "\u001b[1;32m<ipython-input-8-0e4095769a69>\u001b[0m in \u001b[0;36m<module>\u001b[1;34m()\u001b[0m\n\u001b[0;32m      3\u001b[0m \u001b[0mvariable\u001b[0m \u001b[1;33m=\u001b[0m \u001b[0mutils\u001b[0m\u001b[1;33m.\u001b[0m\u001b[0mget_variable\u001b[0m\u001b[1;33m(\u001b[0m\u001b[0mnc\u001b[0m\u001b[1;33m)\u001b[0m\u001b[1;33m\u001b[0m\u001b[0m\n\u001b[0;32m      4\u001b[0m \u001b[0mlats\u001b[0m\u001b[1;33m,\u001b[0m \u001b[0mlons\u001b[0m \u001b[1;33m=\u001b[0m \u001b[0mutils\u001b[0m\u001b[1;33m.\u001b[0m\u001b[0munrotate_pole\u001b[0m\u001b[1;33m(\u001b[0m\u001b[0mnc\u001b[0m\u001b[1;33m,\u001b[0m \u001b[0mwrite_to_file\u001b[0m\u001b[1;33m=\u001b[0m\u001b[0mTrue\u001b[0m\u001b[1;33m)\u001b[0m\u001b[1;33m\u001b[0m\u001b[0m\n\u001b[1;32m----> 5\u001b[1;33m \u001b[0mutils\u001b[0m\u001b[1;33m.\u001b[0m\u001b[0mget_values\u001b[0m\u001b[1;33m(\u001b[0m \u001b[0mnc\u001b[0m\u001b[1;33m,\u001b[0m \u001b[0mvariable\u001b[0m \u001b[1;33m=\u001b[0m\u001b[0mvariable\u001b[0m \u001b[1;33m)\u001b[0m\u001b[1;33m\u001b[0m\u001b[0m\n\u001b[0m",
      "\u001b[1;32m/homel/nhempel/birdhouse/flyingpigeon/flyingpigeon/utils.py\u001b[0m in \u001b[0;36mget_values\u001b[1;34m(nc_files, variable)\u001b[0m\n\u001b[0;32m    364\u001b[0m   \u001b[1;32mif\u001b[0m \u001b[0mvariable\u001b[0m \u001b[1;33m==\u001b[0m \u001b[0mNone\u001b[0m\u001b[1;33m:\u001b[0m\u001b[1;33m\u001b[0m\u001b[0m\n\u001b[0;32m    365\u001b[0m       \u001b[0mvariable\u001b[0m \u001b[1;33m=\u001b[0m \u001b[0mget_variable\u001b[0m\u001b[1;33m(\u001b[0m\u001b[0mnc_files\u001b[0m\u001b[1;33m)\u001b[0m\u001b[1;33m\u001b[0m\u001b[0m\n\u001b[1;32m--> 366\u001b[1;33m   \u001b[0mmds\u001b[0m \u001b[1;33m=\u001b[0m \u001b[0mMFDataset\u001b[0m\u001b[1;33m(\u001b[0m\u001b[0mnc_files\u001b[0m\u001b[1;33m)\u001b[0m\u001b[1;33m\u001b[0m\u001b[0m\n\u001b[0m\u001b[0;32m    367\u001b[0m   \u001b[0mvals\u001b[0m \u001b[1;33m=\u001b[0m \u001b[0msqueeze\u001b[0m\u001b[1;33m(\u001b[0m\u001b[0mmds\u001b[0m\u001b[1;33m.\u001b[0m\u001b[0mvariables\u001b[0m\u001b[1;33m[\u001b[0m\u001b[0mvariable\u001b[0m\u001b[1;33m]\u001b[0m\u001b[1;33m[\u001b[0m\u001b[1;33m:\u001b[0m\u001b[1;33m]\u001b[0m\u001b[1;33m)\u001b[0m\u001b[1;33m\u001b[0m\u001b[0m\n\u001b[0;32m    368\u001b[0m   \u001b[1;32mreturn\u001b[0m \u001b[0mvals\u001b[0m\u001b[1;33m\u001b[0m\u001b[0m\n",
      "\u001b[1;32mnetCDF4/_netCDF4.pyx\u001b[0m in \u001b[0;36mnetCDF4._netCDF4.MFDataset.__init__ (netCDF4/_netCDF4.c:62702)\u001b[1;34m()\u001b[0m\n",
      "\u001b[1;31mIOError\u001b[0m: master dataset ./0584e510-75dc-11e6-bfd7-f54d5ee1259e.nc does not have a aggregation dimension"
     ]
    }
   ],
   "source": [
    "reload(utils)\n",
    "nc = './0584e510-75dc-11e6-bfd7-f54d5ee1259e.nc'\n",
    "variable = utils.get_variable(nc)\n",
    "lats, lons = utils.unrotate_pole(nc, write_to_file=True)\n",
    "utils.get_values( nc, variable =variable )"
   ]
  },
  {
   "cell_type": "code",
   "execution_count": 34,
   "metadata": {
    "collapsed": false
   },
   "outputs": [],
   "source": [
    "from netCDF4 import Dataset\n",
    "\n",
    "ds = Dataset(resource[0])\n",
    "ds.close()"
   ]
  },
  {
   "cell_type": "code",
   "execution_count": 27,
   "metadata": {
    "collapsed": false
   },
   "outputs": [
    {
     "data": {
      "text/plain": [
       "[u'time', u'climatology_bounds', u'rlat', u'rlon', u'rotated_pole', u'CDD']"
      ]
     },
     "execution_count": 27,
     "metadata": {},
     "output_type": "execute_result"
    }
   ],
   "source": [
    "ds.variables.keys()"
   ]
  },
  {
   "cell_type": "code",
   "execution_count": 28,
   "metadata": {
    "collapsed": true
   },
   "outputs": [],
   "source": [
    "if 'lat' in ds.variables.keys(): \n",
    "    print 'its in '"
   ]
  },
  {
   "cell_type": "code",
   "execution_count": 20,
   "metadata": {
    "collapsed": false
   },
   "outputs": [],
   "source": [
    "from numpy import min, max, mean "
   ]
  },
  {
   "cell_type": "code",
   "execution_count": 24,
   "metadata": {
    "collapsed": false
   },
   "outputs": [
    {
     "name": "stdout",
     "output_type": "stream",
     "text": [
      "12.538726934 75.8600006104\n"
     ]
    }
   ],
   "source": [
    "print min(lats)  , max(lats)"
   ]
  },
  {
   "cell_type": "code",
   "execution_count": 25,
   "metadata": {
    "collapsed": false
   },
   "outputs": [
    {
     "name": "stdout",
     "output_type": "stream",
     "text": [
      "-170.710522646 -23.2894773544\n"
     ]
    }
   ],
   "source": [
    "print min(lons)  , max(lons)"
   ]
  },
  {
   "cell_type": "code",
   "execution_count": null,
   "metadata": {
    "collapsed": true
   },
   "outputs": [],
   "source": []
  }
 ],
 "metadata": {
  "anaconda-cloud": {},
  "kernelspec": {
   "display_name": "Python [conda env:flyingpigeon]",
   "language": "python",
   "name": "conda-env-flyingpigeon-py"
  },
  "language_info": {
   "codemirror_mode": {
    "name": "ipython",
    "version": 2
   },
   "file_extension": ".py",
   "mimetype": "text/x-python",
   "name": "python",
   "nbconvert_exporter": "python",
   "pygments_lexer": "ipython2",
   "version": "2.7.12"
  }
 },
 "nbformat": 4,
 "nbformat_minor": 1
}
