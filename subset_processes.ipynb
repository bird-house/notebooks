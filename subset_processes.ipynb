{
 "cells": [
  {
   "cell_type": "markdown",
   "metadata": {},
   "source": [
    "# Subset Processes of Flyingpigeon \n",
    "\n",
    "The WPS flyingpigeon provides several processes to perform spatial subsetts of netCDF files. \n",
    "This are:\n",
    "\n",
    "* **bounding box:** \n",
    "reduces the input netCDF files to a given latitude longitude bounding box. \n",
    "\n",
    "* **country or continent subset:** \n",
    "to reduce netCDF files to only the intersection of selected polygons. Countries and Continents are predifined. \n",
    "\n",
    "* **WFS subset:** \n",
    "reduce netCDF files to only the intersection of given polygons available on a given WFS server. \n"
   ]
  },
  {
   "cell_type": "code",
   "execution_count": 1,
   "metadata": {},
   "outputs": [],
   "source": [
    "# import the WPS client and connet to the server\n",
    "from birdy import WPSClient\n",
    "import birdy \n",
    "\n",
    "# to display Images from an url\n",
    "from IPython.core.display import HTML \n",
    "from IPython.display import Image\n",
    "\n",
    "# download files stored in a metalink\n",
    "from metalink import download\n",
    "\n",
    "fp_server = 'http://localhost:8093/wps'   # link to the flyingpigoen server\n",
    "\n",
    "# simple connection (not recommended for larger processing)\n",
    "fp = WPSClient(fp_server)\n",
    "\n",
    "# asyncron connection with progess status requests\n",
    "fp_i = WPSClient(url=fp_server, progress=True)"
   ]
  },
  {
   "cell_type": "markdown",
   "metadata": {},
   "source": [
    "Explore the available processes: "
   ]
  },
  {
   "cell_type": "code",
   "execution_count": 2,
   "metadata": {},
   "outputs": [
    {
     "name": "stdout",
     "output_type": "stream",
     "text": [
      "Help on method subset_continents in module birdy.client.base:\n",
      "\n",
      "subset_continents(resource=None, region='Africa', mosaic=False) method of birdy.client.base.WPSClient instance\n",
      "    Return the data whose grid cells intersect the selected continents for each input dataset.\n",
      "    \n",
      "    Parameters\n",
      "    ----------\n",
      "    region : {'Africa', 'Asia', 'Australia', 'North America', 'Oceania', 'South America', 'Antarctica', 'Europe'}string\n",
      "        Continent name.\n",
      "    mosaic : boolean\n",
      "        If True, selected regions will be merged into a single geometry.\n",
      "    resource : ComplexData:mimetype:`application/x-netcdf`, :mimetype:`application/x-tar`, :mimetype:`application/zip`\n",
      "        NetCDF Files or archive (tar/zip) containing netCDF files.\n",
      "    \n",
      "    Returns\n",
      "    -------\n",
      "    output : ComplexData:mimetype:`application/x-netcdf`\n",
      "        NetCDF output for first resource file.\n",
      "    metalink : ComplexData:mimetype:`application/metalink+xml; version=4.0`\n",
      "        Metalink file with links to all NetCDF outputs.\n",
      "\n"
     ]
    }
   ],
   "source": [
    "# fp? for general exploration on processes provided by flyingpigeon\n",
    "fp?\n",
    "\n",
    "# of check out a process in detail:\n",
    "help(fp.subset_continents) # or type: fp.subset_countries?"
   ]
  },
  {
   "cell_type": "code",
   "execution_count": 3,
   "metadata": {},
   "outputs": [],
   "source": [
    "# point out some input files: \n",
    "\n",
    "url1 = 'https://www.esrl.noaa.gov/psd/thredds/fileServer/Datasets/ncep.reanalysis.dailyavgs/surface/slp.2000.nc'\n",
    "url2 = 'https://www.esrl.noaa.gov/psd/thredds/fileServer/Datasets/ncep.reanalysis.dailyavgs/surface/slp.2001.nc'\n",
    "url3 = 'https://www.esrl.noaa.gov/psd/thredds/fileServer/Datasets/ncep.reanalysis.dailyavgs/surface/slp.2002.nc'\n",
    "url4 = 'https://www.esrl.noaa.gov/psd/thredds/fileServer/Datasets/ncep.reanalysis.dailyavgs/surface/slp.2003.nc' "
   ]
  },
  {
   "cell_type": "markdown",
   "metadata": {},
   "source": [
    "#### Subtset a bounding box \n",
    "\n",
    "All netCDF input files will be subsetted seperately"
   ]
  },
  {
   "cell_type": "code",
   "execution_count": 4,
   "metadata": {},
   "outputs": [
    {
     "data": {
      "application/vnd.jupyter.widget-view+json": {
       "model_id": "6c1f9bc359514d3098744a5044e7e2ba",
       "version_major": 2,
       "version_minor": 0
      },
      "text/plain": [
       "HBox(children=(IntProgress(value=0, bar_style='info', description='Processing:'), Button(button_style='danger'…"
      ]
     },
     "metadata": {},
     "output_type": "display_data"
    }
   ],
   "source": [
    "out = fp_i.subset_bbox(\n",
    "            resource=[url1,url2,], \n",
    "            lon0=20,\n",
    "            lon1=70,\n",
    "            lat0=10,\n",
    "            lat1=50,\n",
    "            start=None,  # optional to select a time periode\n",
    "            end=None,\n",
    "            variable=None,  # can be set if the variable is known, otherwise the process detects the variable name \n",
    "            )\n",
    "\n",
    "# You need to wait until the processing is complete!"
   ]
  },
  {
   "cell_type": "code",
   "execution_count": 5,
   "metadata": {},
   "outputs": [
    {
     "data": {
      "text/plain": [
       "subset_bboxResponse(\n",
       "    output='http://127.0.0.1:8093/outputs/3d2add84-6922-11ea-9223-9cb6d08a53e7/slp.2000_bbox_subset.nc',\n",
       "    metalink='http://127.0.0.1:8093/outputs/3d2add84-6922-11ea-9223-9cb6d08a53e7/input.meta4'\n",
       ")"
      ]
     },
     "execution_count": 5,
     "metadata": {},
     "output_type": "execute_result"
    }
   ],
   "source": [
    "# check the output files:\n",
    "out.get()"
   ]
  },
  {
   "cell_type": "code",
   "execution_count": 6,
   "metadata": {},
   "outputs": [
    {
     "data": {
      "text/html": [
       "<img src=\"http://127.0.0.1:8093/outputs/790f3e30-6922-11ea-8a6e-9cb6d08a53e7/tmpaxq1dhb1.png\" width=\"400\"/>"
      ],
      "text/plain": [
       "<IPython.core.display.Image object>"
      ]
     },
     "execution_count": 6,
     "metadata": {},
     "output_type": "execute_result"
    }
   ],
   "source": [
    "# plot the test file with the flyingpigon plot function \n",
    "out_plot = fp.plot_map_timemean(resource=out.get()[0])\n",
    "\n",
    "# and display the output\n",
    "Image(url= out_plot.get()[0], width=400)"
   ]
  },
  {
   "cell_type": "code",
   "execution_count": 9,
   "metadata": {},
   "outputs": [
    {
     "name": "stdout",
     "output_type": "stream",
     "text": [
      "Metalink content-type detected.\n",
      "Downloading to /home/nils/data/slp.2000_bbox_subset.nc.\n",
      "Downloading to /home/nils/data/slp.2001_bbox_subset.nc.\n"
     ]
    }
   ],
   "source": [
    "# if you want to download the result files: \n",
    "\n",
    "dir_output = '/home/nils/data/'\n",
    "files = download.get(out.get()[1], path=dir_output, segmented=False)"
   ]
  },
  {
   "cell_type": "markdown",
   "metadata": {},
   "source": [
    "#### Call a continent subset process\n",
    "\n",
    "All netCDF input files will be subsetted seperatly and depending on mosic=True or Fales the selected polygons are given as seperated files or one output file per input file including one intersection of all selected polygons. \n",
    "\n",
    "**subset_countries** is working in the same principe"
   ]
  },
  {
   "cell_type": "code",
   "execution_count": 10,
   "metadata": {},
   "outputs": [
    {
     "data": {
      "application/vnd.jupyter.widget-view+json": {
       "model_id": "049892c446ad4c06bcd3c93c244438b7",
       "version_major": 2,
       "version_minor": 0
      },
      "text/plain": [
       "HBox(children=(IntProgress(value=0, bar_style='info', description='Processing:'), Button(button_style='danger'…"
      ]
     },
     "metadata": {},
     "output_type": "display_data"
    }
   ],
   "source": [
    "# run the process\n",
    "out = fp_i.subset_continents(resource=[url1, url2, url3, url4], region=['Europe', 'Africa'], mosaic=True)\n",
    "\n",
    "# You need to wait until the processing is done!"
   ]
  },
  {
   "cell_type": "markdown",
   "metadata": {},
   "source": [
    "There are two outputs: \n",
    "* a netCDF file to have a quick test to check if the process went according to the users needs\n",
    "* a metalink file with the list of all output files"
   ]
  },
  {
   "cell_type": "code",
   "execution_count": 11,
   "metadata": {},
   "outputs": [
    {
     "data": {
      "text/plain": [
       "subset_continentsResponse(\n",
       "    output='http://127.0.0.1:8093/outputs/c8f11026-6923-11ea-9aa4-9cb6d08a53e7/slp.2000_EuropeAfrica.nc',\n",
       "    metalink='http://127.0.0.1:8093/outputs/c8f11026-6923-11ea-9aa4-9cb6d08a53e7/input.meta4'\n",
       ")"
      ]
     },
     "execution_count": 11,
     "metadata": {},
     "output_type": "execute_result"
    }
   ],
   "source": [
    "# check the output files:\n",
    "out.get()"
   ]
  },
  {
   "cell_type": "code",
   "execution_count": 12,
   "metadata": {},
   "outputs": [
    {
     "data": {
      "application/vnd.jupyter.widget-view+json": {
       "model_id": "82d493a5bd23467697fac6b75e3c5dd9",
       "version_major": 2,
       "version_minor": 0
      },
      "text/plain": [
       "HBox(children=(IntProgress(value=0, bar_style='info', description='Processing:'), Button(button_style='danger'…"
      ]
     },
     "metadata": {},
     "output_type": "display_data"
    }
   ],
   "source": [
    "# plot the test file with the flyingpigon plot function \n",
    "out = fp_i.plot_map_timemean(resource=out.get()[0])"
   ]
  },
  {
   "cell_type": "code",
   "execution_count": 13,
   "metadata": {},
   "outputs": [
    {
     "data": {
      "text/plain": [
       "plot_map_timemeanResponse(\n",
       "    plotout_map='http://127.0.0.1:8093/outputs/40053b56-6924-11ea-9811-9cb6d08a53e7/tmpbcimpf5v.png'\n",
       ")"
      ]
     },
     "execution_count": 13,
     "metadata": {},
     "output_type": "execute_result"
    }
   ],
   "source": [
    "# the plot process returnes one graphic file\n",
    "out.get()"
   ]
  },
  {
   "cell_type": "code",
   "execution_count": 14,
   "metadata": {},
   "outputs": [
    {
     "data": {
      "text/html": [
       "<img src=\"http://127.0.0.1:8093/outputs/40053b56-6924-11ea-9811-9cb6d08a53e7/tmpbcimpf5v.png\" width=\"400\"/>"
      ],
      "text/plain": [
       "<IPython.core.display.Image object>"
      ]
     },
     "execution_count": 14,
     "metadata": {},
     "output_type": "execute_result"
    }
   ],
   "source": [
    "Image(url= out.get()[0], width=400)"
   ]
  },
  {
   "cell_type": "code",
   "execution_count": null,
   "metadata": {},
   "outputs": [],
   "source": []
  }
 ],
 "metadata": {
  "kernelspec": {
   "display_name": "Python 3",
   "language": "python",
   "name": "python3"
  },
  "language_info": {
   "codemirror_mode": {
    "name": "ipython",
    "version": 3
   },
   "file_extension": ".py",
   "mimetype": "text/x-python",
   "name": "python",
   "nbconvert_exporter": "python",
   "pygments_lexer": "ipython3",
   "version": "3.7.4"
  }
 },
 "nbformat": 4,
 "nbformat_minor": 2
}
