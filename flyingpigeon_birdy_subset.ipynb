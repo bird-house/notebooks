{
 "cells": [
  {
   "cell_type": "code",
   "execution_count": 1,
   "metadata": {},
   "outputs": [],
   "source": [
    "%matplotlib inline\n",
    "from birdy import WPSClient\n",
    "import birdy \n",
    "\n",
    "fp_server = ' http://localhost:8093/wps'    # flyingpigeon\n",
    "# fp_server = 'http://127.0.0.1:5000/wps'  # finch \n",
    "fp = WPSClient(fp_server)"
   ]
  },
  {
   "cell_type": "code",
   "execution_count": 2,
   "metadata": {},
   "outputs": [
    {
     "name": "stdout",
     "output_type": "stream",
     "text": [
      "Help on method subset_countries in module birdy.client.base:\n",
      "\n",
      "subset_countries(resource=None, region='DEU', mosaic=True) method of birdy.client.base.WPSClient instance\n",
      "    Return the data whose grid cells intersect the selected countries for each input dataset.\n",
      "    \n",
      "    Parameters\n",
      "    ----------\n",
      "    region : {'ABW', 'AFG', 'AGO', 'ALB', 'ALD', 'AND', 'ARE', 'ARG', 'ARM', 'ASM', ...}//www.w3.org/TR/xmlschema-2/#string\n",
      "        Country code, see ISO-3166-3:                          https://en.wikipedia.org/wiki/ISO_3166-1_alpha-3#Officially_assigned_code_elements\n",
      "    mosaic : //www.w3.org/TR/xmlschema-2/#boolean\n",
      "        If True, selected regions will be merged into a single geometry.\n",
      "    resource : ComplexData:mimetype:`application/x-netcdf`, :mimetype:`application/x-tar`, :mimetype:`application/zip`\n",
      "        NetCDF Files or archive (tar/zip) containing NetCDF files.\n",
      "    \n",
      "    Returns\n",
      "    -------\n",
      "    output : ComplexData:mimetype:`application/x-tar`\n",
      "        Tar archive of the subsetted netCDF files.\n",
      "    ncout : ComplexData:mimetype:`application/x-netcdf`\n",
      "        NetCDF file with subset for one dataset.\n",
      "\n"
     ]
    }
   ],
   "source": [
    "# pf? for general exploration on processes provided by flyingpigeon\n",
    "help(fp.subset_countries) # or type: fp.subset_countries?"
   ]
  },
  {
   "cell_type": "code",
   "execution_count": 9,
   "metadata": {},
   "outputs": [],
   "source": [
    "# In the help provided link to the ISO country codes you can find that 'NER' is representative for Niger. \n",
    "# define some data urls\n",
    "\n",
    "\n",
    "file1 = 'http://localhost:8093/outputs/data/tas_AFR-22_MOHC-HadGEM2-ES_historical_r1i1p1_CLMcom-KIT-CCLM5-0-15_v1_day_19500101-19501230.nc'\n",
    "file2 = 'http://localhost:8093/outputs/data/tas_AFR-22_MOHC-HadGEM2-ES_historical_r1i1p1_CLMcom-KIT-CCLM5-0-15_v1_day_19510101-19551230.nc'\n"
   ]
  },
  {
   "cell_type": "code",
   "execution_count": 10,
   "metadata": {},
   "outputs": [],
   "source": [
    "out = fp.subset_countries(resource=file1, region='NER')"
   ]
  },
  {
   "cell_type": "code",
   "execution_count": 11,
   "metadata": {},
   "outputs": [
    {
     "data": {
      "text/plain": [
       "'http://localhost:8093/outputs/6ee8ed58-3d43-11ea-9d28-9cb6d08a53e7/tas_AFR-22_MOHC-HadGEM2-ES_historical_r1i1p1_CLMcom-KIT-CCLM5-0-15_v1_day_19500101-19501230_NER.nc'"
      ]
     },
     "execution_count": 11,
     "metadata": {},
     "output_type": "execute_result"
    }
   ],
   "source": [
    "out.get()[1]"
   ]
  },
  {
   "cell_type": "code",
   "execution_count": null,
   "metadata": {},
   "outputs": [],
   "source": []
  }
 ],
 "metadata": {
  "kernelspec": {
   "display_name": "Python 3",
   "language": "python",
   "name": "python3"
  },
  "language_info": {
   "codemirror_mode": {
    "name": "ipython",
    "version": 3
   },
   "file_extension": ".py",
   "mimetype": "text/x-python",
   "name": "python",
   "nbconvert_exporter": "python",
   "pygments_lexer": "ipython3",
   "version": "3.7.3"
  }
 },
 "nbformat": 4,
 "nbformat_minor": 2
}
