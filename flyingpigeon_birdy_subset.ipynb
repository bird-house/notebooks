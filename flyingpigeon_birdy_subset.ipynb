{
 "cells": [
  {
   "cell_type": "markdown",
   "metadata": {},
   "source": [
    "# Sunset Processes of Flyingpigeon \n",
    "\n",
    "The WPS flyingpigeon provides several processes to perform spatial subsetts of netCDF files. \n",
    "This are:\n",
    "\n",
    "* **bounding box:** \n",
    "reduces the input netCDF files to a given latitude longitude bounding box. \n",
    "\n",
    "* **country or continent subset:** \n",
    "to reduce netCDF files to only the intersection of selected polygons. Countries and Continents are predifined. \n",
    "\n",
    "* **WFS subset:** \n",
    "reduce netCDF files to only the intersection of given polygons available on a given WFS server. \n"
   ]
  },
  {
   "cell_type": "code",
   "execution_count": 1,
   "metadata": {},
   "outputs": [],
   "source": [
    "# import the WPS client and connet to the server\n",
    "from birdy import WPSClient\n",
    "import birdy \n",
    "\n",
    "fp_server = 'http://localhost:8093/wps'   # finch \n",
    "\n",
    "# simple connection (not recommended for larger processing)\n",
    "fp = WPSClient(fp_server)\n",
    "\n",
    "# asyncron connection with progess status requests\n",
    "fp_i = WPSClient(url=fp_server, progress=True)"
   ]
  },
  {
   "cell_type": "markdown",
   "metadata": {},
   "source": [
    "Explore the available processes: "
   ]
  },
  {
   "cell_type": "code",
   "execution_count": 2,
   "metadata": {},
   "outputs": [
    {
     "name": "stdout",
     "output_type": "stream",
     "text": [
      "Help on method subset_continents in module birdy.client.base:\n",
      "\n",
      "subset_continents(resource=None, region='Africa', mosaic=False) method of birdy.client.base.WPSClient instance\n",
      "    Return the data whose grid cells intersect the selected continents for each input dataset.\n",
      "    \n",
      "    Parameters\n",
      "    ----------\n",
      "    region : {'Africa', 'Asia', 'Australia', 'North America', 'Oceania', 'South America', 'Antarctica', 'Europe'}string\n",
      "        Continent name.\n",
      "    mosaic : boolean\n",
      "        If True, selected regions will be merged into a single geometry.\n",
      "    resource : ComplexData:mimetype:`application/x-netcdf`, :mimetype:`application/x-tar`, :mimetype:`application/zip`\n",
      "        NetCDF Files or archive (tar/zip) containing netCDF files.\n",
      "    \n",
      "    Returns\n",
      "    -------\n",
      "    output : ComplexData:mimetype:`application/x-netcdf`\n",
      "        NetCDF output for first resource file.\n",
      "    metalink : ComplexData:mimetype:`application/metalink+xml; version=4.0`\n",
      "        Metalink file with links to all NetCDF outputs.\n",
      "\n"
     ]
    }
   ],
   "source": [
    "# fp? for general exploration on processes provided by flyingpigeon\n",
    "fp?\n",
    "\n",
    "# of check out a process in detail:\n",
    "help(fp.subset_continents) # or type: fp.subset_countries?"
   ]
  },
  {
   "cell_type": "code",
   "execution_count": 3,
   "metadata": {},
   "outputs": [],
   "source": [
    "# point out some input files: \n",
    "\n",
    "url1 = 'https://www.esrl.noaa.gov/psd/thredds/fileServer/Datasets/ncep.reanalysis.dailyavgs/surface/slp.2000.nc'\n",
    "url2 = 'https://www.esrl.noaa.gov/psd/thredds/fileServer/Datasets/ncep.reanalysis.dailyavgs/surface/slp.2001.nc'\n",
    "url3 = 'https://www.esrl.noaa.gov/psd/thredds/fileServer/Datasets/ncep.reanalysis.dailyavgs/surface/slp.2002.nc'\n",
    "url4 = 'https://www.esrl.noaa.gov/psd/thredds/fileServer/Datasets/ncep.reanalysis.dailyavgs/surface/slp.2003.nc' "
   ]
  },
  {
   "cell_type": "markdown",
   "metadata": {},
   "source": [
    "#### Call a continent subset process\n",
    "\n",
    "All netCDF input files will be subsetted seperatly and depending on mosic=True or Fales the selected polygons are given as seperated files or one output file per input file including one intersection of all selected polygons. \n",
    "\n",
    "**subset_countries** is working in the same principe"
   ]
  },
  {
   "cell_type": "code",
   "execution_count": 4,
   "metadata": {},
   "outputs": [
    {
     "data": {
      "application/vnd.jupyter.widget-view+json": {
       "model_id": "a60aa2f46d8d4c91bda91dd7718d6cf0",
       "version_major": 2,
       "version_minor": 0
      },
      "text/plain": [
       "HBox(children=(IntProgress(value=0, bar_style='info', description='Processing:'), Button(button_style='danger'…"
      ]
     },
     "metadata": {},
     "output_type": "display_data"
    }
   ],
   "source": [
    "# run the process\n",
    "out = fp_i.subset_continents(resource=[url1, url2, url3, url4], region=['Europe', 'Africa'], mosaic=True)\n",
    "\n",
    "# You need to wait until the processing is done!"
   ]
  },
  {
   "cell_type": "markdown",
   "metadata": {},
   "source": [
    "There are two outputs: \n",
    "* a netCDF file to have a quick test to check if the process went according to the users needs\n",
    "* a metalink file with the list of all output files"
   ]
  },
  {
   "cell_type": "code",
   "execution_count": 6,
   "metadata": {},
   "outputs": [
    {
     "data": {
      "text/plain": [
       "subset_continentsResponse(\n",
       "    output='http://127.0.0.1:8093/outputs/f232a4ba-67a0-11ea-a160-9cb6d08a53e7/slp.2000_EuropeAfrica.nc',\n",
       "    metalink='http://127.0.0.1:8093/outputs/f232a4ba-67a0-11ea-a160-9cb6d08a53e7/input.meta4'\n",
       ")"
      ]
     },
     "execution_count": 6,
     "metadata": {},
     "output_type": "execute_result"
    }
   ],
   "source": [
    "# check the output files:\n",
    "out.get()"
   ]
  },
  {
   "cell_type": "code",
   "execution_count": 7,
   "metadata": {},
   "outputs": [
    {
     "data": {
      "application/vnd.jupyter.widget-view+json": {
       "model_id": "bf2ed26fb8524694b30c9361f2cbc467",
       "version_major": 2,
       "version_minor": 0
      },
      "text/plain": [
       "HBox(children=(IntProgress(value=0, bar_style='info', description='Processing:'), Button(button_style='danger'…"
      ]
     },
     "metadata": {},
     "output_type": "display_data"
    }
   ],
   "source": [
    "# plot the test file with the flyingpigon plot function \n",
    "out = fp_i.plot_map_timemean(resource=out.get()[0])"
   ]
  },
  {
   "cell_type": "code",
   "execution_count": 8,
   "metadata": {},
   "outputs": [
    {
     "data": {
      "text/plain": [
       "plot_map_timemeanResponse(\n",
       "    plotout_map='http://127.0.0.1:8093/outputs/bdbf0876-67a1-11ea-9e91-9cb6d08a53e7/tmp_5ahujnj.png'\n",
       ")"
      ]
     },
     "execution_count": 8,
     "metadata": {},
     "output_type": "execute_result"
    }
   ],
   "source": [
    "# the plot process returnes one graphic file\n",
    "out.get()"
   ]
  },
  {
   "cell_type": "code",
   "execution_count": 9,
   "metadata": {},
   "outputs": [
    {
     "data": {
      "text/html": [
       "<img src=\"http://127.0.0.1:8093/outputs/bdbf0876-67a1-11ea-9e91-9cb6d08a53e7/tmp_5ahujnj.png\" width=\"400\"/>"
      ],
      "text/plain": [
       "<IPython.core.display.Image object>"
      ]
     },
     "execution_count": 9,
     "metadata": {},
     "output_type": "execute_result"
    }
   ],
   "source": [
    "from IPython.display import Image\n",
    "from IPython.core.display import HTML \n",
    "Image(url= out.get()[0], width=400)"
   ]
  },
  {
   "cell_type": "code",
   "execution_count": null,
   "metadata": {},
   "outputs": [],
   "source": []
  }
 ],
 "metadata": {
  "kernelspec": {
   "display_name": "Python 3",
   "language": "python",
   "name": "python3"
  },
  "language_info": {
   "codemirror_mode": {
    "name": "ipython",
    "version": 3
   },
   "file_extension": ".py",
   "mimetype": "text/x-python",
   "name": "python",
   "nbconvert_exporter": "python",
   "pygments_lexer": "ipython3",
   "version": "3.7.4"
  }
 },
 "nbformat": 4,
 "nbformat_minor": 2
}
